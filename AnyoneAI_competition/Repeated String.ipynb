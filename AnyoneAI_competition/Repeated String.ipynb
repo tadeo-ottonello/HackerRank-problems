{
 "cells": [
  {
   "cell_type": "markdown",
   "metadata": {},
   "source": [
    "# Problem\n",
    "---"
   ]
  },
  {
   "cell_type": "markdown",
   "metadata": {},
   "source": [
    "![Prob_1_1](./Images/Prob_1_1.JPG)"
   ]
  },
  {
   "cell_type": "markdown",
   "metadata": {},
   "source": [
    "![Prob_1_2](./Images/Prob_1_2.JPG)"
   ]
  },
  {
   "cell_type": "markdown",
   "metadata": {},
   "source": [
    "# Solution\n",
    "---"
   ]
  },
  {
   "cell_type": "code",
   "execution_count": null,
   "metadata": {},
   "outputs": [],
   "source": [
    "def repeatedString(s, n):\n",
    "    str_len = len(s)\n",
    "    num_rep = n // str_len\n",
    "    num_res = n % str_len\n",
    "    \n",
    "    num_letter_a = s.count('a')\n",
    "    num_additional = s[0 : num_res].count('a')\n",
    "    \n",
    "    counter = num_letter_a * num_rep + num_additional\n",
    "            \n",
    "    return counter\n",
    "\n",
    "    \n",
    "if __name__ == '__main__':\n",
    "    \n",
    "    s = input()\n",
    "    n = int(input().strip())\n",
    "\n",
    "    print(repeatedString(s, n))\n"
   ]
  }
 ],
 "metadata": {
  "kernelspec": {
   "display_name": "Python 3.8.7rc1 64-bit",
   "language": "python",
   "name": "python3"
  },
  "language_info": {
   "codemirror_mode": {
    "name": "ipython",
    "version": 3
   },
   "file_extension": ".py",
   "mimetype": "text/x-python",
   "name": "python",
   "nbconvert_exporter": "python",
   "pygments_lexer": "ipython3",
   "version": "3.8.7rc1"
  },
  "orig_nbformat": 4,
  "vscode": {
   "interpreter": {
    "hash": "1d927cf7450bcc3606565cd236bda40ebe55b6128bddee8109386870f1ca1865"
   }
  }
 },
 "nbformat": 4,
 "nbformat_minor": 2
}
