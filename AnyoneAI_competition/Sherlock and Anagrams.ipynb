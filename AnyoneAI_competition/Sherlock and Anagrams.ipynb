{
 "cells": [
  {
   "cell_type": "markdown",
   "metadata": {},
   "source": [
    "# Problem\n",
    "---"
   ]
  },
  {
   "cell_type": "markdown",
   "metadata": {},
   "source": [
    "![Prob_6_1](./Images/Prob_6_1.JPG)\n",
    "![Prob_6_2](./Images/Prob_6_2.JPG)"
   ]
  },
  {
   "cell_type": "markdown",
   "metadata": {},
   "source": [
    "# Solution\n",
    "---"
   ]
  },
  {
   "cell_type": "code",
   "execution_count": null,
   "metadata": {},
   "outputs": [],
   "source": [
    "def permutations(number):\n",
    "    n_permutations = 0\n",
    "\n",
    "    for number in range(number):\n",
    "        n_permutations += number\n",
    "\n",
    "    return n_permutations\n",
    "\n",
    "\n",
    "def sherlockAndAnagrams(s):\n",
    "    substrings = dict()\n",
    "\n",
    "    for starting in range(len(s)):\n",
    "        for length in range(1, len(s) - starting + 1):\n",
    "            if length not in substrings:\n",
    "                substrings[length] = dict()\n",
    "            substring = \"\".join(sorted(s[starting : starting+length]))\n",
    "            substrings[length][substring] = substrings[length].get(substring, 0) + 1\n",
    "\n",
    "    anagrams = 0\n",
    "    for _, value in substrings.items():\n",
    "        for _, count in value.items():\n",
    "            anagrams += permutations(count)\n",
    "\n",
    "    return anagrams\n",
    "\n",
    "if __name__ == '__main__':\n",
    "    q = int(input().strip())\n",
    "\n",
    "    for _ in range(q):\n",
    "        s = input()\n",
    "\n",
    "        print(sherlockAndAnagrams(s))\n"
   ]
  }
 ],
 "metadata": {
  "kernelspec": {
   "display_name": "Python 3.8.7rc1 64-bit",
   "language": "python",
   "name": "python3"
  },
  "language_info": {
   "codemirror_mode": {
    "name": "ipython",
    "version": 3
   },
   "file_extension": ".py",
   "mimetype": "text/x-python",
   "name": "python",
   "nbconvert_exporter": "python",
   "pygments_lexer": "ipython3",
   "version": "3.8.7rc1"
  },
  "orig_nbformat": 4,
  "vscode": {
   "interpreter": {
    "hash": "1d927cf7450bcc3606565cd236bda40ebe55b6128bddee8109386870f1ca1865"
   }
  }
 },
 "nbformat": 4,
 "nbformat_minor": 2
}
