{
 "cells": [
  {
   "cell_type": "markdown",
   "metadata": {},
   "source": [
    "# Problem\n",
    "---"
   ]
  },
  {
   "cell_type": "markdown",
   "metadata": {},
   "source": [
    "![Prob_5_1](./Images/Prob_5_1.JPG)\n",
    "![Prob_5_2](./Images/Prob_5_2.JPG)"
   ]
  },
  {
   "cell_type": "markdown",
   "metadata": {},
   "source": [
    "# Solution\n",
    "---"
   ]
  },
  {
   "cell_type": "code",
   "execution_count": null,
   "metadata": {},
   "outputs": [],
   "source": [
    "def minimumSwaps(arr):\n",
    "    counter = 0\n",
    "    position_dict = {position+1:label for position, label in enumerate(arr)}\n",
    "    position_dict_2 = {value:key for key, value in position_dict.items()}\n",
    "\n",
    "    for position, label in position_dict.items():\n",
    "        if position != label:\n",
    "            counter += 1\n",
    "            \n",
    "            actual_position = position_dict_2[position]\n",
    "            \n",
    "            position_dict_2[label] = position_dict_2[position]\n",
    "            position_dict_2[position] = label\n",
    "\n",
    "            position_dict[actual_position] = label\n",
    "            position_dict[position] = position\n",
    " \n",
    "    return counter\n",
    "\n",
    "\n",
    "if __name__ == '__main__':\n",
    "    n = int(input())\n",
    "\n",
    "    arr = list(map(int, input().rstrip().split()))\n",
    "\n",
    "    print(minimumSwaps(arr))\n"
   ]
  }
 ],
 "metadata": {
  "kernelspec": {
   "display_name": "Python 3.8.7rc1 64-bit",
   "language": "python",
   "name": "python3"
  },
  "language_info": {
   "codemirror_mode": {
    "name": "ipython",
    "version": 3
   },
   "file_extension": ".py",
   "mimetype": "text/x-python",
   "name": "python",
   "nbconvert_exporter": "python",
   "pygments_lexer": "ipython3",
   "version": "3.8.7rc1"
  },
  "orig_nbformat": 4,
  "vscode": {
   "interpreter": {
    "hash": "1d927cf7450bcc3606565cd236bda40ebe55b6128bddee8109386870f1ca1865"
   }
  }
 },
 "nbformat": 4,
 "nbformat_minor": 2
}
