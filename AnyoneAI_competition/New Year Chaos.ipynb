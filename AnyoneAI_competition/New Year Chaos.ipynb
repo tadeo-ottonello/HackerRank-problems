{
 "cells": [
  {
   "cell_type": "markdown",
   "metadata": {},
   "source": [
    "# Problem\n",
    "---"
   ]
  },
  {
   "cell_type": "markdown",
   "metadata": {},
   "source": [
    "![Prob_4_1](./Images/Prob_4_1.JPG)\n",
    "![Prob_4_2](./Images/Prob_4_2.JPG)\n",
    "![Prob_4_3](./Images/Prob_4_3.JPG)"
   ]
  },
  {
   "cell_type": "markdown",
   "metadata": {},
   "source": [
    "# Solution\n",
    "---"
   ]
  },
  {
   "cell_type": "code",
   "execution_count": null,
   "metadata": {},
   "outputs": [],
   "source": [
    "def minimumBribes(q):\n",
    "    bribes = 0\n",
    "    people_position = {label:index+1 for index, label in enumerate(q)}\n",
    "    people_position_2 = dict((value, key) for key, value in people_position.items())\n",
    "\n",
    "    for key, value in people_position.items():\n",
    "        if key > value + 2:\n",
    "            print(\"Too chaotic\")\n",
    "            return\n",
    "\n",
    "    for number in range(1, len(q)+1):\n",
    "        actual_position = people_position[number]\n",
    "\n",
    "        while actual_position > number:\n",
    "            bribes += 1\n",
    "            person_to_change = people_position_2[actual_position - 1]\n",
    "            \n",
    "            people_position[number] = people_position[person_to_change]\n",
    "            people_position[person_to_change] = actual_position\n",
    "\n",
    "            people_position_2[actual_position] = people_position_2[actual_position-1]\n",
    "            people_position_2[actual_position-1] = number\n",
    "\n",
    "            actual_position = people_position[number]\n",
    "\n",
    "    print(bribes)\n",
    "\n",
    "    \n",
    "if __name__ == '__main__':\n",
    "    t = int(input().strip())\n",
    "\n",
    "    for t_itr in range(t):\n",
    "        n = int(input().strip())\n",
    "\n",
    "        q = list(map(int, input().rstrip().split()))\n",
    "\n",
    "        print(minimumBribes(q))\n"
   ]
  }
 ],
 "metadata": {
  "kernelspec": {
   "display_name": "Python 3.8.7rc1 64-bit",
   "language": "python",
   "name": "python3"
  },
  "language_info": {
   "name": "python",
   "version": "3.8.7"
  },
  "orig_nbformat": 4,
  "vscode": {
   "interpreter": {
    "hash": "1d927cf7450bcc3606565cd236bda40ebe55b6128bddee8109386870f1ca1865"
   }
  }
 },
 "nbformat": 4,
 "nbformat_minor": 2
}
