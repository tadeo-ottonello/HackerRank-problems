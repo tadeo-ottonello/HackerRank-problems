{
 "cells": [
  {
   "cell_type": "markdown",
   "metadata": {},
   "source": [
    "# Problem\n",
    "---"
   ]
  },
  {
   "cell_type": "markdown",
   "metadata": {},
   "source": [
    "![Prob_7_1](./Images/Prob_7_1.JPG)\n",
    "![Prob_7_2](./Images/Prob_7_2.JPG)\n",
    "![Prob_7_3](./Images/Prob_7_3.JPG)\n",
    "![Prob_7_4](./Images/Prob_7_4.JPG)"
   ]
  },
  {
   "cell_type": "markdown",
   "metadata": {},
   "source": [
    "# Solution\n",
    "---"
   ]
  },
  {
   "cell_type": "code",
   "execution_count": 11,
   "metadata": {},
   "outputs": [
    {
     "name": "stdout",
     "output_type": "stream",
     "text": [
      "1\n"
     ]
    }
   ],
   "source": [
    "def freqQuery(queries):\n",
    "    queries_result = []\n",
    "    dict_to_analyse = {}\n",
    "\n",
    "    for query in queries:\n",
    "        if query[0] == 1:\n",
    "            dict_to_analyse = dict_increment(dict_to_analyse, query[1])\n",
    "        elif query[0] == 2:\n",
    "            dict_to_analyse = dict_decrement(dict_to_analyse, query[1])\n",
    "        else:\n",
    "            queries_result.append(existance_of_counter(dict_to_analyse, query[1]))\n",
    "\n",
    "    return queries_result\n",
    "\n",
    "\n",
    "def existance_of_counter(dictionary, counter):\n",
    "    if counter in dictionary.values():\n",
    "        return 1\n",
    "    else:\n",
    "        return 0\n",
    "\n",
    "\n",
    "def dict_increment(dictionary, value):\n",
    "    dictionary[value] = dictionary.get(value, 0) + 1\n",
    "    return dictionary\n",
    "\n",
    "\n",
    "def dict_decrement(dictionary, value):\n",
    "    if value in dictionary and dictionary[value] > 0:\n",
    "        dictionary[value] -= 1\n",
    "    return dictionary\n",
    "\n",
    "\n",
    "if __name__ == '__main__':\n",
    "    q = int(input().strip())\n",
    "\n",
    "    queries = []\n",
    "\n",
    "    for _ in range(q):\n",
    "        queries.append(list(map(int, input().rstrip().split())))\n",
    "\n",
    "    ans = freqQuery(queries)\n",
    "\n",
    "    print('\\n'.join(map(str, ans)))\n"
   ]
  },
  {
   "cell_type": "code",
   "execution_count": null,
   "metadata": {},
   "outputs": [],
   "source": []
  }
 ],
 "metadata": {
  "kernelspec": {
   "display_name": "Python 3.8.7rc1 64-bit",
   "language": "python",
   "name": "python3"
  },
  "language_info": {
   "codemirror_mode": {
    "name": "ipython",
    "version": 3
   },
   "file_extension": ".py",
   "mimetype": "text/x-python",
   "name": "python",
   "nbconvert_exporter": "python",
   "pygments_lexer": "ipython3",
   "version": "3.8.7rc1"
  },
  "orig_nbformat": 4,
  "vscode": {
   "interpreter": {
    "hash": "1d927cf7450bcc3606565cd236bda40ebe55b6128bddee8109386870f1ca1865"
   }
  }
 },
 "nbformat": 4,
 "nbformat_minor": 2
}
