{
 "cells": [
  {
   "cell_type": "markdown",
   "metadata": {},
   "source": [
    "# Problem\n",
    "---"
   ]
  },
  {
   "cell_type": "markdown",
   "metadata": {},
   "source": [
    "![Prob_7_1](./Images/Prob_7_1.JPG)\n",
    "![Prob_7_2](./Images/Prob_7_2.JPG)\n",
    "![Prob_7_3](./Images/Prob_7_3.JPG)\n",
    "![Prob_7_4](./Images/Prob_7_4.JPG)"
   ]
  },
  {
   "cell_type": "markdown",
   "metadata": {},
   "source": [
    "# Solution\n",
    "---"
   ]
  },
  {
   "cell_type": "code",
   "execution_count": 15,
   "metadata": {},
   "outputs": [
    {
     "name": "stdout",
     "output_type": "stream",
     "text": [
      "\n"
     ]
    }
   ],
   "source": [
    "def freqQuery(queries):\n",
    "    queries_result = []\n",
    "    number_dict = {}\n",
    "    counter_dict = {}\n",
    "\n",
    "    for query in queries:\n",
    "        if query[0] == 1:\n",
    "            dict_increment(number_dict, counter_dict, query[1])\n",
    "        elif query[0] == 2:\n",
    "            dict_decrement(number_dict, counter_dict, query[1])\n",
    "        else:\n",
    "            queries_result.append(existance_of_counter(counter_dict, query[1]))\n",
    "\n",
    "    return queries_result\n",
    "\n",
    "\n",
    "def dict_increment(number_dict, counter_dict, value):\n",
    "    number_dict[value] = number_dict.get(value, 0) + 1\n",
    "    \n",
    "    counter_dict[number_dict[value]] = counter_dict.get(number_dict[value], 0) + 1\n",
    "    if number_dict[value]-1 in counter_dict:\n",
    "        counter_dict[number_dict[value]-1] -= 1\n",
    "\n",
    "\n",
    "def dict_decrement(number_dict, counter_dict, value):\n",
    "    if value in number_dict and number_dict[value] > 0:\n",
    "        number_dict[value] -= 1\n",
    "        \n",
    "        if number_dict[value] > 0:\n",
    "            counter_dict[number_dict[value]] += 1\n",
    "        counter_dict[number_dict[value]+1] -= 1\n",
    "\n",
    "\n",
    "def existance_of_counter(dictionary, counter):\n",
    "    if counter in dictionary and dictionary[counter] > 0:\n",
    "        return 1\n",
    "    else:\n",
    "        return 0\n",
    "\n",
    "\n",
    "if __name__ == '__main__':\n",
    "    q = int(input().strip())\n",
    "\n",
    "    queries = []\n",
    "\n",
    "    for _ in range(q):\n",
    "        queries.append(list(map(int, input().rstrip().split())))\n",
    "\n",
    "    ans = freqQuery(queries)\n",
    "\n",
    "    print('\\n'.join(map(str, ans)))\n"
   ]
  }
 ],
 "metadata": {
  "kernelspec": {
   "display_name": "Python 3.8.7rc1 64-bit",
   "language": "python",
   "name": "python3"
  },
  "language_info": {
   "codemirror_mode": {
    "name": "ipython",
    "version": 3
   },
   "file_extension": ".py",
   "mimetype": "text/x-python",
   "name": "python",
   "nbconvert_exporter": "python",
   "pygments_lexer": "ipython3",
   "version": "3.8.7rc1"
  },
  "orig_nbformat": 4,
  "vscode": {
   "interpreter": {
    "hash": "1d927cf7450bcc3606565cd236bda40ebe55b6128bddee8109386870f1ca1865"
   }
  }
 },
 "nbformat": 4,
 "nbformat_minor": 2
}
