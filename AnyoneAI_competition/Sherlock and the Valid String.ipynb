{
 "cells": [
  {
   "cell_type": "markdown",
   "metadata": {},
   "source": [
    "# Problem\n",
    "---"
   ]
  },
  {
   "cell_type": "markdown",
   "metadata": {},
   "source": [
    "![Prob_8_1](./Images/Prob_8_1.JPG)\n",
    "![Prob_8_2](./Images/Prob_8_2.JPG)"
   ]
  },
  {
   "cell_type": "markdown",
   "metadata": {},
   "source": [
    "# Solution\n",
    "---"
   ]
  },
  {
   "cell_type": "code",
   "execution_count": null,
   "metadata": {},
   "outputs": [],
   "source": [
    "def isValid(input):\n",
    "    letter_freq = {}\n",
    "    for letter in input:\n",
    "        letter_freq[letter] = letter_freq.get(letter, 0) + 1\n",
    "\n",
    "    count_freq = {}\n",
    "    for _, freq in letter_freq.items():\n",
    "        count_freq[freq] = count_freq.get(freq, 0) + 1\n",
    "\n",
    "    if len(count_freq) == 1:\n",
    "        return \"YES\"\n",
    "    \n",
    "    if len(count_freq) == 2:\n",
    "        a, b = sorted(count_freq.keys())\n",
    "        if a == 1 and count_freq[1] == 1 or (b == a + 1 and count_freq[b] == 1):\n",
    "            return \"YES\"\n",
    "\n",
    "    return \"NO\"\n",
    "\n",
    "\n",
    "if __name__ == '__main__':\n",
    "    s = input()\n",
    "\n",
    "    print(isValid(s))"
   ]
  }
 ],
 "metadata": {
  "kernelspec": {
   "display_name": "Python 3.8.7rc1 64-bit",
   "language": "python",
   "name": "python3"
  },
  "language_info": {
   "codemirror_mode": {
    "name": "ipython",
    "version": 3
   },
   "file_extension": ".py",
   "mimetype": "text/x-python",
   "name": "python",
   "nbconvert_exporter": "python",
   "pygments_lexer": "ipython3",
   "version": "3.8.7rc1"
  },
  "orig_nbformat": 4,
  "vscode": {
   "interpreter": {
    "hash": "1d927cf7450bcc3606565cd236bda40ebe55b6128bddee8109386870f1ca1865"
   }
  }
 },
 "nbformat": 4,
 "nbformat_minor": 2
}
