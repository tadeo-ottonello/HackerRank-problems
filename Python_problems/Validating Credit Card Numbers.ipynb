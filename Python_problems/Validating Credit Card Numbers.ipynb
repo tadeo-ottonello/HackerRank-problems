{
 "cells": [
  {
   "cell_type": "markdown",
   "metadata": {},
   "source": [
    "# Problem\n",
    "---"
   ]
  },
  {
   "cell_type": "markdown",
   "metadata": {},
   "source": [
    "![Pic_22_1](./Images/Pic_22_1.JPG)\n",
    "![Pic_22_2](./Images/Pic_22_2.JPG)\n",
    "![Pic_22_3](./Images/Pic_22_3.JPG)"
   ]
  },
  {
   "cell_type": "markdown",
   "metadata": {},
   "source": [
    "# Solution\n",
    "---"
   ]
  },
  {
   "cell_type": "code",
   "execution_count": null,
   "metadata": {},
   "outputs": [],
   "source": [
    "# Using string methods\n",
    "\n",
    "def validate_credit_card(input_card):\n",
    "    \n",
    "    if input_card[0] not in ['4', '5', '6']:\n",
    "        return 'Invalid'\n",
    "    \n",
    "    for index in range(len(input_card)):\n",
    "        if input_card[index] == '-':\n",
    "            if index < 4:\n",
    "                return 'Invalid'\n",
    "            else:\n",
    "                if input_card[index-4: index].isdigit() == False:\n",
    "                    return 'Invalid'\n",
    "\n",
    "    clean_imp = input_card.replace('-', '')\n",
    "    \n",
    "    if clean_imp.isdigit() == False:\n",
    "        return 'Invalid'\n",
    "    \n",
    "    if len(clean_imp) != 16:\n",
    "        return 'Invalid'\n",
    "    \n",
    "    for index in range(3, len(clean_imp)):\n",
    "        if clean_imp[index] == clean_imp[index-1] == clean_imp[index-2] == clean_imp[index-3]:\n",
    "            return 'Invalid'\n",
    "\n",
    "    return 'Valid'\n",
    "\n",
    "\n",
    "if __name__ == '__main__':\n",
    "    for _ in range(int(input())):\n",
    "        print(validate_credit_card(input()))"
   ]
  },
  {
   "cell_type": "code",
   "execution_count": null,
   "metadata": {},
   "outputs": [],
   "source": [
    "# Using Regex (Regular Expressions)\n",
    "\n",
    "import re\n",
    "\n",
    "\n",
    "def validate_credit_card(input_card):\n",
    "    pattern = re.compile(r\"^[4-6][0-9]{3}(-?[0-9]{4}){3}$\")\n",
    "    patt_eq = re.compile(r\"([0-9])(-?\\1){3}\")\n",
    "\n",
    "    if re.fullmatch(pattern, input_card) and not re.search(patt_eq, input_card):\n",
    "        return 'Valid'\n",
    "    else:\n",
    "        return 'Invalid'\n",
    "\n",
    "\n",
    "if __name__ == '__main__':\n",
    "    for _ in range(int(input())):\n",
    "        print(validate_credit_card(input()))\n"
   ]
  }
 ],
 "metadata": {
  "kernelspec": {
   "display_name": "Python 3.8.7rc1 64-bit",
   "language": "python",
   "name": "python3"
  },
  "language_info": {
   "codemirror_mode": {
    "name": "ipython",
    "version": 3
   },
   "file_extension": ".py",
   "mimetype": "text/x-python",
   "name": "python",
   "nbconvert_exporter": "python",
   "pygments_lexer": "ipython3",
   "version": "3.8.7rc1"
  },
  "orig_nbformat": 4,
  "vscode": {
   "interpreter": {
    "hash": "1d927cf7450bcc3606565cd236bda40ebe55b6128bddee8109386870f1ca1865"
   }
  }
 },
 "nbformat": 4,
 "nbformat_minor": 2
}
