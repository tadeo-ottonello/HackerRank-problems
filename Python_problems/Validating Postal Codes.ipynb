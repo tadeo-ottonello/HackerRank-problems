{
 "cells": [
  {
   "cell_type": "markdown",
   "metadata": {},
   "source": [
    "# Problem\n",
    "---"
   ]
  },
  {
   "cell_type": "markdown",
   "metadata": {},
   "source": [
    "![Pic_23_1](./Images/Pic_23_1.JPG)\n",
    "![Pic_23_2](./Images/Pic_23_2.JPG)"
   ]
  },
  {
   "cell_type": "markdown",
   "metadata": {},
   "source": [
    "# Solution\n",
    "---"
   ]
  },
  {
   "cell_type": "code",
   "execution_count": null,
   "metadata": {},
   "outputs": [],
   "source": [
    "import re\n",
    "\n",
    "\n",
    "regex_integer_in_range = r\"^[1-9]{1}\\d{5}$\"\n",
    "regex_alternating_repetitive_digit_pair = r\"(.)(?=.\\1)\"\n",
    "\n",
    "P = input()\n",
    "\n",
    "int_in_range = bool(re.match(regex_integer_in_range, P))\n",
    "rep_digit = len(re.findall(regex_alternating_repetitive_digit_pair, P)) < 2\n",
    "\n",
    "print(int_in_range and rep_digit)\n"
   ]
  }
 ],
 "metadata": {
  "kernelspec": {
   "display_name": "Python 3.8.7rc1 64-bit",
   "language": "python",
   "name": "python3"
  },
  "language_info": {
   "codemirror_mode": {
    "name": "ipython",
    "version": 3
   },
   "file_extension": ".py",
   "mimetype": "text/x-python",
   "name": "python",
   "nbconvert_exporter": "python",
   "pygments_lexer": "ipython3",
   "version": "3.8.7rc1"
  },
  "orig_nbformat": 4,
  "vscode": {
   "interpreter": {
    "hash": "1d927cf7450bcc3606565cd236bda40ebe55b6128bddee8109386870f1ca1865"
   }
  }
 },
 "nbformat": 4,
 "nbformat_minor": 2
}
