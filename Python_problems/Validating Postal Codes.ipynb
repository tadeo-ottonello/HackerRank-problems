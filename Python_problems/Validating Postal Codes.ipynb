{
 "cells": [
  {
   "cell_type": "markdown",
   "metadata": {},
   "source": [
    "# Problem\n",
    "---"
   ]
  },
  {
   "cell_type": "markdown",
   "metadata": {},
   "source": [
    "![Pic_23_1](./Images/Pic_23_1.JPG)\n",
    "![Pic_23_2](./Images/Pic_23_2.JPG)"
   ]
  },
  {
   "cell_type": "markdown",
   "metadata": {},
   "source": [
    "# Solution\n",
    "---"
   ]
  },
  {
   "cell_type": "code",
   "execution_count": null,
   "metadata": {},
   "outputs": [],
   "source": [
    "import re\n",
    "\n",
    "\n",
    "regex_integer_in_range = r\"[1-9]{1}[0-9]{5}\"\n",
    "regex_alternating_repetitive_digit_pair = r\"([0-9])([0-9])(\\1)\"\n",
    "\n",
    "\n",
    "P = input()\n",
    "\n",
    "int_in_range = bool(re.match(regex_integer_in_range, P))\n",
    "rep_digit = len(re.findall(regex_alternating_repetitive_digit_pair, P)) < 2\n",
    "\n",
    "print (int_in_range and rep_digit)"
   ]
  }
 ],
 "metadata": {
  "language_info": {
   "name": "python"
  },
  "orig_nbformat": 4
 },
 "nbformat": 4,
 "nbformat_minor": 2
}
