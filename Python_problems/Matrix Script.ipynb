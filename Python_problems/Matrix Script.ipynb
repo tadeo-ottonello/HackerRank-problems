{
 "cells": [
  {
   "cell_type": "markdown",
   "metadata": {},
   "source": [
    "# Problem\n",
    "---"
   ]
  },
  {
   "cell_type": "markdown",
   "metadata": {},
   "source": [
    "![Pic_25_1](./Images/Pic_25_1.JPG)\n",
    "![Pic_25_2](./Images/Pic_25_2.JPG)\n",
    "![Pic_25_3](./Images/Pic_25_3.JPG)"
   ]
  },
  {
   "cell_type": "markdown",
   "metadata": {},
   "source": [
    "# Solution\n",
    "---"
   ]
  },
  {
   "cell_type": "code",
   "execution_count": null,
   "metadata": {},
   "outputs": [],
   "source": [
    "import re\n",
    "\n",
    "\n",
    "def decode(matrix, m):\n",
    "    letters = [x[y] for y in range(m) for x in matrix]\n",
    "    text = ''.join(letters)\n",
    "\n",
    "    text = re.sub(r'(?<=\\w)[^\\w]+(?=\\w)', ' ', text)\n",
    "    \n",
    "    return text\n",
    "\n",
    "\n",
    "if __name__ == '__main__':\n",
    "\n",
    "    n, m = map(int, input().rstrip().split())\n",
    "    matrix = []\n",
    "\n",
    "    for _ in range(n):\n",
    "        matrix_item = input()\n",
    "        matrix.append(matrix_item)\n",
    "\n",
    "    print(decode(matrix, m))"
   ]
  }
 ],
 "metadata": {
  "kernelspec": {
   "display_name": "Python 3.8.7rc1 64-bit",
   "language": "python",
   "name": "python3"
  },
  "language_info": {
   "codemirror_mode": {
    "name": "ipython",
    "version": 3
   },
   "file_extension": ".py",
   "mimetype": "text/x-python",
   "name": "python",
   "nbconvert_exporter": "python",
   "pygments_lexer": "ipython3",
   "version": "3.8.7"
  },
  "orig_nbformat": 4,
  "vscode": {
   "interpreter": {
    "hash": "1d927cf7450bcc3606565cd236bda40ebe55b6128bddee8109386870f1ca1865"
   }
  }
 },
 "nbformat": 4,
 "nbformat_minor": 2
}
