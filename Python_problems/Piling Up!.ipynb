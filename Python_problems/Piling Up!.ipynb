{
 "cells": [
  {
   "cell_type": "markdown",
   "metadata": {},
   "source": [
    "# Problem\n",
    "---"
   ]
  },
  {
   "cell_type": "markdown",
   "metadata": {},
   "source": [
    "![Pic_15_1](./Images/Pic_15_1.JPG)\n",
    "![Pic_15_2](./Images/Pic_15_2.JPG)"
   ]
  },
  {
   "cell_type": "markdown",
   "metadata": {},
   "source": [
    "# Solution\n",
    "---"
   ]
  },
  {
   "cell_type": "code",
   "execution_count": null,
   "metadata": {},
   "outputs": [],
   "source": [
    "def pilling_possibility(n, array):\n",
    "    \n",
    "    less = 0\n",
    "    more = -1\n",
    "\n",
    "    if array[less] > array[more]:\n",
    "        previous = array[less]\n",
    "    else:\n",
    "        previous = array[more]\n",
    "\n",
    "    while len(array) + more >= less:\n",
    "        if array[less] > array[more] and array[less] <= previous:\n",
    "            previous = array[less]\n",
    "            less += 1\n",
    "        elif array[more] <= previous:\n",
    "            previous = array[more]\n",
    "            more -= 1\n",
    "        else:\n",
    "            return 'No'\n",
    "    \n",
    "    return 'Yes'\n",
    "        \n",
    "\n",
    "if __name__ == '__main__':\n",
    "\n",
    "    for _ in range(int(input())):\n",
    "        n = int(input())\n",
    "        size_array = list(map(int, input().split()))\n",
    "\n",
    "        print(pilling_possibility(n, size_array))\n"
   ]
  }
 ],
 "metadata": {
  "kernelspec": {
   "display_name": "Python 3.8.7rc1 64-bit",
   "language": "python",
   "name": "python3"
  },
  "language_info": {
   "codemirror_mode": {
    "name": "ipython",
    "version": 3
   },
   "file_extension": ".py",
   "mimetype": "text/x-python",
   "name": "python",
   "nbconvert_exporter": "python",
   "pygments_lexer": "ipython3",
   "version": "3.8.7"
  },
  "orig_nbformat": 4,
  "vscode": {
   "interpreter": {
    "hash": "1d927cf7450bcc3606565cd236bda40ebe55b6128bddee8109386870f1ca1865"
   }
  }
 },
 "nbformat": 4,
 "nbformat_minor": 2
}
