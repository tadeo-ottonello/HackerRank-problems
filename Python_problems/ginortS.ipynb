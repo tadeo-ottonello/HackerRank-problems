{
 "cells": [
  {
   "cell_type": "markdown",
   "metadata": {},
   "source": [
    "# Problem\n",
    "---"
   ]
  },
  {
   "cell_type": "markdown",
   "metadata": {},
   "source": [
    "![Pic_18_1](./Images/Pic_18_1.JPG)\n",
    "![Pic_18_2](./Images/Pic_18_2.JPG)"
   ]
  },
  {
   "cell_type": "markdown",
   "metadata": {},
   "source": [
    "# Solution\n",
    "---"
   ]
  },
  {
   "cell_type": "code",
   "execution_count": null,
   "metadata": {},
   "outputs": [],
   "source": [
    "def sort_ginortS(x):\n",
    "    if x.isalpha() and x.islower():\n",
    "        cha_class = 1\n",
    "    elif x.isalpha() and x.isupper():\n",
    "        cha_class = 2\n",
    "    elif x.isdigit() and int(x) % 2 == 1:\n",
    "        cha_class = 3\n",
    "    else:\n",
    "        cha_class = 4\n",
    "        \n",
    "    return cha_class, x \n",
    "\n",
    "\n",
    "input_str = input()\n",
    "print(\"\".join(sorted(input_str, key=sort_ginortS)))\n"
   ]
  }
 ],
 "metadata": {
  "kernelspec": {
   "display_name": "Python 3.8.7rc1 64-bit",
   "language": "python",
   "name": "python3"
  },
  "language_info": {
   "codemirror_mode": {
    "name": "ipython",
    "version": 3
   },
   "file_extension": ".py",
   "mimetype": "text/x-python",
   "name": "python",
   "nbconvert_exporter": "python",
   "pygments_lexer": "ipython3",
   "version": "3.8.7rc1"
  },
  "orig_nbformat": 4,
  "vscode": {
   "interpreter": {
    "hash": "1d927cf7450bcc3606565cd236bda40ebe55b6128bddee8109386870f1ca1865"
   }
  }
 },
 "nbformat": 4,
 "nbformat_minor": 2
}
