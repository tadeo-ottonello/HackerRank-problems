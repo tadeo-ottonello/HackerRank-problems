{
 "cells": [
  {
   "cell_type": "markdown",
   "metadata": {},
   "source": [
    "# Problem\n",
    "---"
   ]
  },
  {
   "cell_type": "markdown",
   "metadata": {},
   "source": [
    "![Pic_2_1](./Images/Pic_2_1.JPG)\n",
    "![Pic_2_2](./Images/Pic_2_2.JPG)"
   ]
  },
  {
   "cell_type": "markdown",
   "metadata": {},
   "source": [
    "# Solution\n",
    "---"
   ]
  },
  {
   "cell_type": "code",
   "execution_count": null,
   "metadata": {},
   "outputs": [],
   "source": [
    "def countingValleys(steps, path):\n",
    "    level = 0\n",
    "    n_valeys = 0\n",
    "    \n",
    "    for i in range(steps):\n",
    "        if path[i] == \"U\":\n",
    "            level += 1\n",
    "            if level == 0:\n",
    "                n_valeys += 1\n",
    "        else:\n",
    "            level -= 1\n",
    "\n",
    "    return n_valeys\n",
    "\n",
    "\n",
    "if __name__ == '__main__':\n",
    "    steps = int(input().strip())\n",
    "    path = input()\n",
    "\n",
    "    result = countingValleys(steps, path)\n",
    "\n",
    "    print(str(result) + '\\n')\n"
   ]
  }
 ],
 "metadata": {
  "kernelspec": {
   "display_name": "Python 3.8.7rc1 64-bit",
   "language": "python",
   "name": "python3"
  },
  "language_info": {
   "codemirror_mode": {
    "name": "ipython",
    "version": 3
   },
   "file_extension": ".py",
   "mimetype": "text/x-python",
   "name": "python",
   "nbconvert_exporter": "python",
   "pygments_lexer": "ipython3",
   "version": "3.8.7rc1"
  },
  "orig_nbformat": 4,
  "vscode": {
   "interpreter": {
    "hash": "1d927cf7450bcc3606565cd236bda40ebe55b6128bddee8109386870f1ca1865"
   }
  }
 },
 "nbformat": 4,
 "nbformat_minor": 2
}
