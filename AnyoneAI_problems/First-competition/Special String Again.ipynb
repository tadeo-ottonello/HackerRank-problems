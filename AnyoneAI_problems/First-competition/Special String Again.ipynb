{
 "cells": [
  {
   "cell_type": "markdown",
   "metadata": {},
   "source": [
    "# Problem\n",
    "---"
   ]
  },
  {
   "cell_type": "markdown",
   "metadata": {},
   "source": [
    "![Prob_9_1](./Images/Prob_9_1.JPG)\n",
    "![Prob_9_2](./Images/Prob_9_2.JPG)"
   ]
  },
  {
   "cell_type": "markdown",
   "metadata": {},
   "source": [
    "# Solution\n",
    "---"
   ]
  },
  {
   "cell_type": "code",
   "execution_count": null,
   "metadata": {},
   "outputs": [],
   "source": [
    "def substrCount(string):\n",
    "    word_counter = 0\n",
    "    \n",
    "    for index, letter in enumerate(string):\n",
    "        word_counter += 1\n",
    "        \n",
    "        letter_counter = 0\n",
    "        while True:\n",
    "            letter_counter += 1\n",
    "\n",
    "            if index+letter_counter > len(string)-1:\n",
    "                break\n",
    "            elif string[index+letter_counter] == letter:\n",
    "                word_counter += 1\n",
    "            else:\n",
    "                if accepted_word(string, index, letter_counter, letter):\n",
    "                    word_counter += 1\n",
    "                break\n",
    "\n",
    "    return word_counter\n",
    "\n",
    "\n",
    "def accepted_word(string, index, letter_counter, letter):\n",
    "    if len(string)-1 < index+letter_counter*2:\n",
    "        return False\n",
    "        \n",
    "    for i in range(index+letter_counter+1, index+letter_counter*2+1):\n",
    "        if string[i] != letter:\n",
    "            return False\n",
    "    \n",
    "    return True\n",
    "\n",
    "\n",
    "if __name__ == '__main__':\n",
    "    input_string = input()\n",
    "\n",
    "    print(substrCount(input_string))"
   ]
  }
 ],
 "metadata": {
  "kernelspec": {
   "display_name": "Python 3.8.7rc1 64-bit",
   "language": "python",
   "name": "python3"
  },
  "language_info": {
   "codemirror_mode": {
    "name": "ipython",
    "version": 3
   },
   "file_extension": ".py",
   "mimetype": "text/x-python",
   "name": "python",
   "nbconvert_exporter": "python",
   "pygments_lexer": "ipython3",
   "version": "3.8.7rc1"
  },
  "orig_nbformat": 4,
  "vscode": {
   "interpreter": {
    "hash": "1d927cf7450bcc3606565cd236bda40ebe55b6128bddee8109386870f1ca1865"
   }
  }
 },
 "nbformat": 4,
 "nbformat_minor": 2
}
