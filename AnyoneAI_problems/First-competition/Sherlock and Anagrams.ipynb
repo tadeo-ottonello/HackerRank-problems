{
 "cells": [
  {
   "cell_type": "markdown",
   "metadata": {},
   "source": [
    "# Problem\n",
    "---"
   ]
  },
  {
   "cell_type": "markdown",
   "metadata": {},
   "source": [
    "![Prob_6_1](./Images/Prob_6_1.JPG)\n",
    "![Prob_6_2](./Images/Prob_6_2.JPG)"
   ]
  },
  {
   "cell_type": "markdown",
   "metadata": {},
   "source": [
    "# Solution\n",
    "---"
   ]
  },
  {
   "cell_type": "code",
   "execution_count": null,
   "metadata": {},
   "outputs": [],
   "source": [
    "def sherlockAndAnagrams(s):\n",
    "    anagrams = get_unique_anagrams(s)\n",
    "    return sum_anagrams(anagrams)\n",
    "\n",
    "\n",
    "def sum_anagrams(substrings):\n",
    "    anagrams = 0\n",
    "\n",
    "    for _, count in substrings.items():\n",
    "        anagrams += sum(range(count))\n",
    "    return anagrams\n",
    "\n",
    "\n",
    "def get_unique_anagrams(s):\n",
    "    substrings = dict()\n",
    "\n",
    "    for starting in range(len(s)):\n",
    "        for length in range(1, len(s) - starting + 1):\n",
    "            actual_substring = \"\".join(sorted(s[starting : starting+length]))\n",
    "            substrings[actual_substring] = substrings.get(actual_substring, 0) + 1\n",
    "    return substrings\n",
    "\n",
    "\n",
    "if __name__ == '__main__':\n",
    "    q = int(input().strip())\n",
    "\n",
    "    for _ in range(q):\n",
    "        s = input()\n",
    "\n",
    "        print(sherlockAndAnagrams(s))\n"
   ]
  }
 ],
 "metadata": {
  "kernelspec": {
   "display_name": "Python 3.8.7rc1 64-bit",
   "language": "python",
   "name": "python3"
  },
  "language_info": {
   "codemirror_mode": {
    "name": "ipython",
    "version": 3
   },
   "file_extension": ".py",
   "mimetype": "text/x-python",
   "name": "python",
   "nbconvert_exporter": "python",
   "pygments_lexer": "ipython3",
   "version": "3.8.7rc1"
  },
  "orig_nbformat": 4,
  "vscode": {
   "interpreter": {
    "hash": "1d927cf7450bcc3606565cd236bda40ebe55b6128bddee8109386870f1ca1865"
   }
  }
 },
 "nbformat": 4,
 "nbformat_minor": 2
}
