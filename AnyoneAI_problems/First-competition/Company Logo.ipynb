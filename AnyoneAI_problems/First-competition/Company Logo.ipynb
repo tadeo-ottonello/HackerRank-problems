{
 "cells": [
  {
   "cell_type": "markdown",
   "metadata": {},
   "source": [
    "# Problem\n",
    "---"
   ]
  },
  {
   "cell_type": "markdown",
   "metadata": {},
   "source": [
    "![Prob_10_1](./Images/Prob_10_1.JPG)\n",
    "![Prob_10_2](./Images/Prob_10_2.JPG)"
   ]
  },
  {
   "cell_type": "markdown",
   "metadata": {},
   "source": [
    "# Solution\n",
    "---"
   ]
  },
  {
   "cell_type": "code",
   "execution_count": null,
   "metadata": {},
   "outputs": [],
   "source": [
    "def common_letters(input_string):\n",
    "    letter_dict = {}\n",
    "\n",
    "    for letter in input_string:\n",
    "        letter_dict[letter] = letter_dict.get(letter, 0) + 1\n",
    "\n",
    "    letter_output = [(letter, freq) for letter, freq in letter_dict.items()]\n",
    "    letter_output.sort(key=lambda x: (-x[1], x[0]))\n",
    "\n",
    "    return letter_output[0:3]\n",
    "\n",
    "\n",
    "if __name__ == '__main__':\n",
    "    input_string = input()\n",
    "\n",
    "    for letter, freq in common_letters(input_string):\n",
    "        print(letter, freq)\n"
   ]
  }
 ],
 "metadata": {
  "kernelspec": {
   "display_name": "Python 3.8.7rc1 64-bit",
   "language": "python",
   "name": "python3"
  },
  "language_info": {
   "codemirror_mode": {
    "name": "ipython",
    "version": 3
   },
   "file_extension": ".py",
   "mimetype": "text/x-python",
   "name": "python",
   "nbconvert_exporter": "python",
   "pygments_lexer": "ipython3",
   "version": "3.8.7rc1"
  },
  "orig_nbformat": 4,
  "vscode": {
   "interpreter": {
    "hash": "1d927cf7450bcc3606565cd236bda40ebe55b6128bddee8109386870f1ca1865"
   }
  }
 },
 "nbformat": 4,
 "nbformat_minor": 2
}
