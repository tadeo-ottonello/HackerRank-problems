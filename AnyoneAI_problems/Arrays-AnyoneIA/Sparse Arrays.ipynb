{
 "cells": [
  {
   "cell_type": "markdown",
   "metadata": {},
   "source": [
    "# Problem\n",
    "---"
   ]
  },
  {
   "cell_type": "markdown",
   "metadata": {},
   "source": [
    "![Pic_4_1](./Images/Pic_4_1.JPG)\n",
    "![Pic_4_2](./Images/Pic_4_2.JPG)"
   ]
  },
  {
   "cell_type": "markdown",
   "metadata": {},
   "source": [
    "# Solution\n",
    "---"
   ]
  },
  {
   "cell_type": "code",
   "execution_count": null,
   "metadata": {},
   "outputs": [],
   "source": [
    "def matchingStrings(stringList, queries):\n",
    "    result = []\n",
    "\n",
    "    for query in queries:\n",
    "        result.append(stringList.count(query))\n",
    "    return result\n",
    "\n",
    "\n",
    "if __name__ == '__main__':\n",
    "    stringList_count = int(input().strip())\n",
    "    stringList = []\n",
    "\n",
    "    for _ in range(stringList_count):\n",
    "        stringList_item = input()\n",
    "        stringList.append(stringList_item)\n",
    "\n",
    "    queries_count = int(input().strip())\n",
    "    queries = []\n",
    "\n",
    "    for _ in range(queries_count):\n",
    "        queries_item = input()\n",
    "        queries.append(queries_item)\n",
    "\n",
    "    res = matchingStrings(stringList, queries)\n",
    "\n",
    "    print('\\n'.join(map(str, res)))\n",
    "    print('\\n')\n"
   ]
  }
 ],
 "metadata": {
  "kernelspec": {
   "display_name": "Python 3.8.7rc1 64-bit",
   "language": "python",
   "name": "python3"
  },
  "language_info": {
   "name": "python",
   "version": "3.8.7"
  },
  "orig_nbformat": 4,
  "vscode": {
   "interpreter": {
    "hash": "1d927cf7450bcc3606565cd236bda40ebe55b6128bddee8109386870f1ca1865"
   }
  }
 },
 "nbformat": 4,
 "nbformat_minor": 2
}
