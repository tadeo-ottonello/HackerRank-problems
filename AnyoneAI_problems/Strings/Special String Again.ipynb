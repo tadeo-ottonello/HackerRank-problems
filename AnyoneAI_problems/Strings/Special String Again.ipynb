{
 "cells": [
  {
   "cell_type": "markdown",
   "metadata": {},
   "source": [
    "# Problem\n",
    "---"
   ]
  },
  {
   "cell_type": "markdown",
   "metadata": {},
   "source": [
    "![Pic_5_1](./Images/Pic_5_1.JPG)\n",
    "![Pic_5_2](./Images/Pic_5_2.JPG)"
   ]
  },
  {
   "cell_type": "markdown",
   "metadata": {},
   "source": [
    "# Solution\n",
    "---"
   ]
  },
  {
   "cell_type": "code",
   "execution_count": null,
   "metadata": {},
   "outputs": [],
   "source": [
    "def substrCount(n, s):\n",
    "\n",
    "    result = 0\n",
    "\n",
    "    for start in range(n):\n",
    "        letter = s[start]\n",
    "        counter = 0\n",
    "        act_index = start\n",
    "\n",
    "        while act_index < n and s[act_index] == letter:\n",
    "            counter += 1\n",
    "            act_index += 1\n",
    "        \n",
    "        result += counter\n",
    "\n",
    "        if act_index + 1 < n and s[act_index+1:act_index+1+counter] == letter*counter:\n",
    "            result += 1\n",
    "\n",
    "    return result\n",
    "\n",
    "\n",
    "if __name__ == '__main__':\n",
    "    n = int(input())\n",
    "    s = input()\n",
    "\n",
    "    result = substrCount(n, s)\n",
    "\n",
    "    print(str(result) + '\\n')\n"
   ]
  }
 ],
 "metadata": {
  "kernelspec": {
   "display_name": "Python 3.8.7rc1 64-bit",
   "language": "python",
   "name": "python3"
  },
  "language_info": {
   "name": "python",
   "version": "3.8.7"
  },
  "orig_nbformat": 4,
  "vscode": {
   "interpreter": {
    "hash": "1d927cf7450bcc3606565cd236bda40ebe55b6128bddee8109386870f1ca1865"
   }
  }
 },
 "nbformat": 4,
 "nbformat_minor": 2
}
