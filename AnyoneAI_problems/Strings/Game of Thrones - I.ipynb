{
 "cells": [
  {
   "cell_type": "markdown",
   "metadata": {},
   "source": [
    "# Problem\n",
    "---"
   ]
  },
  {
   "cell_type": "markdown",
   "metadata": {},
   "source": [
    "![Pic_1_1](./Images/Pic_1_1.JPG)\n",
    "![Pic_1_2](./Images/Pic_1_2.JPG)\n",
    "![Pic_1_3](./Images/Pic_1_3.JPG)"
   ]
  },
  {
   "cell_type": "markdown",
   "metadata": {},
   "source": [
    "# Solution\n",
    "---"
   ]
  },
  {
   "cell_type": "code",
   "execution_count": null,
   "metadata": {},
   "outputs": [],
   "source": [
    "def gameOfThrones(s):\n",
    "    freq_letters = {}\n",
    "    count_odd = 0\n",
    "\n",
    "    for letter in s:\n",
    "        freq_letters[letter] = freq_letters.get(letter, 0) + 1\n",
    "    \n",
    "    for value in freq_letters.values():\n",
    "        if value % 2 != 0:\n",
    "            count_odd += 1\n",
    "            if count_odd == 2:\n",
    "                return 'NO'\n",
    "    return 'YES'\n",
    "\n",
    "\n",
    "if __name__ == '__main__':\n",
    "    s = input()\n",
    "    result = gameOfThrones(s)\n",
    "    print(result + '\\n')\n"
   ]
  }
 ],
 "metadata": {
  "kernelspec": {
   "display_name": "Python 3.8.7rc1 64-bit",
   "language": "python",
   "name": "python3"
  },
  "language_info": {
   "codemirror_mode": {
    "name": "ipython",
    "version": 3
   },
   "file_extension": ".py",
   "mimetype": "text/x-python",
   "name": "python",
   "nbconvert_exporter": "python",
   "pygments_lexer": "ipython3",
   "version": "3.8.7rc1"
  },
  "orig_nbformat": 4,
  "vscode": {
   "interpreter": {
    "hash": "1d927cf7450bcc3606565cd236bda40ebe55b6128bddee8109386870f1ca1865"
   }
  }
 },
 "nbformat": 4,
 "nbformat_minor": 2
}
