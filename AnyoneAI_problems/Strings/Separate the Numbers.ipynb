{
 "cells": [
  {
   "cell_type": "markdown",
   "metadata": {},
   "source": [
    "# Problem\n",
    "---"
   ]
  },
  {
   "cell_type": "markdown",
   "metadata": {},
   "source": [
    "![Pic_4_1](./Images/Pic_4_1.JPG)\n",
    "![Pic_4_2](./Images/Pic_4_2.JPG)\n",
    "![Pic_4_3](./Images/Pic_4_3.JPG)\n",
    "![Pic_4_4](./Images/Pic_4_4.JPG)"
   ]
  },
  {
   "cell_type": "markdown",
   "metadata": {},
   "source": [
    "# Problem\n",
    "---"
   ]
  },
  {
   "cell_type": "code",
   "execution_count": 57,
   "metadata": {},
   "outputs": [
    {
     "name": "stdout",
     "output_type": "stream",
     "text": [
      "Value 9, starting pos 1, current length 1\n",
      "Value 10, starting pos 3, current length 2\n",
      "YES 9\n"
     ]
    }
   ],
   "source": [
    "def separateNumbers(s):\n",
    "    if len(s) <= 1:\n",
    "        print('NO')\n",
    "        return\n",
    "\n",
    "    for i in range(1, len(s)//2 + 1):\n",
    "        start_pos = i\n",
    "        curr_len = i\n",
    "        value = int(s[:i])\n",
    "\n",
    "        while start_pos < len(s):\n",
    "            if s[start_pos] == '0':\n",
    "                break            \n",
    "            elif int(s[start_pos : start_pos+curr_len]) == value + 1:\n",
    "                value = int(s[start_pos : start_pos+curr_len])\n",
    "                start_pos += curr_len\n",
    "            elif int(s[start_pos : start_pos+curr_len+1]) == value + 1:\n",
    "                curr_len += 1\n",
    "                value = int(s[start_pos : start_pos+curr_len])\n",
    "                start_pos += curr_len\n",
    "            else:\n",
    "                break\n",
    "        else:\n",
    "            print('YES', s[:i])\n",
    "            return\n",
    "\n",
    "    print('NO')\n",
    "\n",
    "\n",
    "if __name__ == '__main__':\n",
    "    q = int(input().strip())\n",
    "\n",
    "    for q_itr in range(q):\n",
    "        s = input()\n",
    "        separateNumbers(s)"
   ]
  }
 ],
 "metadata": {
  "kernelspec": {
   "display_name": "Python 3.8.7rc1 64-bit",
   "language": "python",
   "name": "python3"
  },
  "language_info": {
   "codemirror_mode": {
    "name": "ipython",
    "version": 3
   },
   "file_extension": ".py",
   "mimetype": "text/x-python",
   "name": "python",
   "nbconvert_exporter": "python",
   "pygments_lexer": "ipython3",
   "version": "3.8.7rc1"
  },
  "orig_nbformat": 4,
  "vscode": {
   "interpreter": {
    "hash": "1d927cf7450bcc3606565cd236bda40ebe55b6128bddee8109386870f1ca1865"
   }
  }
 },
 "nbformat": 4,
 "nbformat_minor": 2
}
