{
 "cells": [
  {
   "cell_type": "markdown",
   "metadata": {},
   "source": [
    "# Problem\n",
    "---"
   ]
  },
  {
   "cell_type": "markdown",
   "metadata": {},
   "source": [
    "![Pic_1_1](./Images/Pic_1_1.JPG)\n",
    "![Pic_1_2](./Images/Pic_1_2.JPG)"
   ]
  },
  {
   "cell_type": "markdown",
   "metadata": {},
   "source": [
    "# Solution\n",
    "---"
   ]
  },
  {
   "cell_type": "code",
   "execution_count": null,
   "metadata": {},
   "outputs": [],
   "source": [
    "def missingNumbers(arr, brr):\n",
    "    result_dict = {}\n",
    "\n",
    "    for item in brr:\n",
    "        result_dict[item] = result_dict.get(item, 0) + 1\n",
    "\n",
    "    for item in arr:\n",
    "        result_dict[item] -= 1\n",
    "\n",
    "    result = [k for k, v in result_dict.items() if v > 0]\n",
    "\n",
    "    return sorted(result)\n",
    "\n",
    "\n",
    "if __name__ == '__main__':\n",
    "\n",
    "    n = int(input().strip())\n",
    "    arr = list(map(int, input().rstrip().split()))\n",
    "\n",
    "    m = int(input().strip())\n",
    "    brr = list(map(int, input().rstrip().split()))\n",
    "\n",
    "    result = missingNumbers(arr, brr)\n",
    "\n",
    "    print(' '.join(map(str, result)))\n",
    "    print('\\n')\n"
   ]
  }
 ],
 "metadata": {
  "kernelspec": {
   "display_name": "Python 3.8.7rc1 64-bit",
   "language": "python",
   "name": "python3"
  },
  "language_info": {
   "name": "python",
   "version": "3.8.7"
  },
  "orig_nbformat": 4,
  "vscode": {
   "interpreter": {
    "hash": "1d927cf7450bcc3606565cd236bda40ebe55b6128bddee8109386870f1ca1865"
   }
  }
 },
 "nbformat": 4,
 "nbformat_minor": 2
}
