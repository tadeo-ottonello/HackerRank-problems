{
 "cells": [
  {
   "cell_type": "markdown",
   "metadata": {},
   "source": [
    "# Problem\n",
    "---"
   ]
  },
  {
   "cell_type": "markdown",
   "metadata": {},
   "source": [
    "![Pic_4_1](./Images/Pic_4_1.JPG)\n",
    "![Pic_4_2](./Images/Pic_4_2.JPG)\n",
    "![Pic_4_3](./Images/Pic_4_3.JPG)"
   ]
  },
  {
   "cell_type": "markdown",
   "metadata": {},
   "source": [
    "# Solution\n",
    "---"
   ]
  },
  {
   "cell_type": "code",
   "execution_count": null,
   "metadata": {},
   "outputs": [],
   "source": [
    "def countTriplets(arr, r):\n",
    "    count_dict = {}\n",
    "\n",
    "    for elem in arr:\n",
    "        count_dict[elem] = count_dict.get(elem, 0) + 1\n",
    "\n",
    "    triplets = 0\n",
    "    \n",
    "    for num in count_dict:\n",
    "        comb = count_dict.get(num) * count_dict.get(num*r, 0) * count_dict.get(num*r*r, 0)\n",
    "        triplets += comb\n",
    "\n",
    "    return triplets\n",
    "\n",
    "\n",
    "if __name__ == '__main__':\n",
    "\n",
    "    n, r = map(int, input().rstrip().split())\n",
    "    arr = list(map(int, input().rstrip().split()))\n",
    "\n",
    "    ans = countTriplets(arr, r)\n",
    "\n",
    "    print(str(ans) + '\\n')\n"
   ]
  }
 ],
 "metadata": {
  "language_info": {
   "name": "python"
  },
  "orig_nbformat": 4
 },
 "nbformat": 4,
 "nbformat_minor": 2
}
