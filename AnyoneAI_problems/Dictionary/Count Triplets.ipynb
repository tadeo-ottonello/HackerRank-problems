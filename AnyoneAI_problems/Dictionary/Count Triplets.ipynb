{
 "cells": [
  {
   "cell_type": "markdown",
   "metadata": {},
   "source": [
    "# Problem\n",
    "---"
   ]
  },
  {
   "cell_type": "markdown",
   "metadata": {},
   "source": [
    "![Pic_4_1](./Images/Pic_4_1.JPG)\n",
    "![Pic_4_2](./Images/Pic_4_2.JPG)\n",
    "![Pic_4_3](./Images/Pic_4_3.JPG)"
   ]
  },
  {
   "cell_type": "markdown",
   "metadata": {},
   "source": [
    "# Solution\n",
    "---"
   ]
  },
  {
   "cell_type": "code",
   "execution_count": null,
   "metadata": {},
   "outputs": [],
   "source": [
    "def countTriplets(arr, r):\n",
    "    triplets = 0\n",
    "    number_dict = {}\n",
    "    tuple_dict  = {}\n",
    "\n",
    "    for num in arr:\n",
    "        triplets += tuple_dict.get((num/r/r, num/r), 0)\n",
    "        tuple_dict[(num/r, num)] = tuple_dict.get((num/r, num), 0) + number_dict.get(num/r, 0)\n",
    "        number_dict[num] = number_dict.get(num, 0) + 1\n",
    "        \n",
    "    return triplets\n",
    "\n",
    "\n",
    "if __name__ == '__main__':\n",
    "\n",
    "    n, r = map(int, input().rstrip().split())\n",
    "    arr = list(map(int, input().rstrip().split()))\n",
    "\n",
    "    ans = countTriplets(arr, r)\n",
    "\n",
    "    print(str(ans) + '\\n')\n"
   ]
  }
 ],
 "metadata": {
  "kernelspec": {
   "display_name": "Python 3.8.7rc1 64-bit",
   "language": "python",
   "name": "python3"
  },
  "language_info": {
   "codemirror_mode": {
    "name": "ipython",
    "version": 3
   },
   "file_extension": ".py",
   "mimetype": "text/x-python",
   "name": "python",
   "nbconvert_exporter": "python",
   "pygments_lexer": "ipython3",
   "version": "3.8.7rc1"
  },
  "orig_nbformat": 4,
  "vscode": {
   "interpreter": {
    "hash": "1d927cf7450bcc3606565cd236bda40ebe55b6128bddee8109386870f1ca1865"
   }
  }
 },
 "nbformat": 4,
 "nbformat_minor": 2
}
