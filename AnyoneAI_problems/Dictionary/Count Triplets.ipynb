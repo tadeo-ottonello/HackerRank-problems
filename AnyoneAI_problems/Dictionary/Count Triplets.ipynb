{
 "cells": [
  {
   "cell_type": "markdown",
   "metadata": {},
   "source": [
    "# Problem\n",
    "---"
   ]
  },
  {
   "cell_type": "markdown",
   "metadata": {},
   "source": [
    "![Pic_4_1](./Images/Pic_4_1.JPG)\n",
    "![Pic_4_2](./Images/Pic_4_2.JPG)\n",
    "![Pic_4_3](./Images/Pic_4_3.JPG)"
   ]
  },
  {
   "cell_type": "markdown",
   "metadata": {},
   "source": [
    "# Solution\n",
    "---"
   ]
  },
  {
   "cell_type": "code",
   "execution_count": null,
   "metadata": {},
   "outputs": [],
   "source": [
    "# Naive solution (assumption array is sorted)\n",
    "\n",
    "def countTriplets(arr, r):\n",
    "    count_dict = {}\n",
    "\n",
    "    for elem in arr:\n",
    "        count_dict[elem] = count_dict.get(elem, 0) + 1\n",
    "\n",
    "    triplets = 0\n",
    "    \n",
    "    for num in count_dict:\n",
    "        comb = count_dict.get(num) * count_dict.get(num*r, 0) * count_dict.get(num*r*r, 0)\n",
    "        triplets += comb\n",
    "\n",
    "    return triplets\n",
    "\n",
    "\n",
    "if __name__ == '__main__':\n",
    "\n",
    "    n, r = map(int, input().rstrip().split())\n",
    "    arr = list(map(int, input().rstrip().split()))\n",
    "\n",
    "    ans = countTriplets(arr, r)\n",
    "\n",
    "    print(str(ans) + '\\n')\n"
   ]
  },
  {
   "cell_type": "code",
   "execution_count": null,
   "metadata": {},
   "outputs": [],
   "source": [
    "def countTriplets(arr, r):\n",
    "    count_dict = {}\n",
    "\n",
    "    for ind, elem in enumerate(arr):\n",
    "        count_dict[elem] = count_dict.get(elem, []) + [ind]\n",
    "\n",
    "    triplets = 0\n",
    "    \n",
    "    for num in count_dict:\n",
    "        comb = len([(i,j,k) for i in count_dict.get(num) for j in count_dict.get(num*r, []) for k in count_dict.get(num*r*r, []) if i<j<k])\n",
    "        triplets += comb\n",
    "\n",
    "    return triplets\n",
    "\n",
    "\n",
    "if __name__ == '__main__':\n",
    "\n",
    "    n, r = map(int, input().rstrip().split())\n",
    "    arr = list(map(int, input().rstrip().split()))\n",
    "\n",
    "    ans = countTriplets(arr, r)\n",
    "\n",
    "    print(str(ans) + '\\n')\n"
   ]
  }
 ],
 "metadata": {
  "kernelspec": {
   "display_name": "Python 3.8.7rc1 64-bit",
   "language": "python",
   "name": "python3"
  },
  "language_info": {
   "codemirror_mode": {
    "name": "ipython",
    "version": 3
   },
   "file_extension": ".py",
   "mimetype": "text/x-python",
   "name": "python",
   "nbconvert_exporter": "python",
   "pygments_lexer": "ipython3",
   "version": "3.8.7rc1"
  },
  "orig_nbformat": 4,
  "vscode": {
   "interpreter": {
    "hash": "1d927cf7450bcc3606565cd236bda40ebe55b6128bddee8109386870f1ca1865"
   }
  }
 },
 "nbformat": 4,
 "nbformat_minor": 2
}
