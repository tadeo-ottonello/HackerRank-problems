{
 "cells": [
  {
   "cell_type": "markdown",
   "metadata": {},
   "source": [
    "# Problem\n",
    "--- "
   ]
  },
  {
   "cell_type": "markdown",
   "metadata": {},
   "source": [
    "![Pic_2_1](./Images/Pic_2_1.JPG)\n",
    "![Pic_2_2](./Images/Pic_2_2.JPG)"
   ]
  },
  {
   "cell_type": "markdown",
   "metadata": {},
   "source": [
    "# Solution\n",
    "--- "
   ]
  },
  {
   "cell_type": "code",
   "execution_count": null,
   "metadata": {},
   "outputs": [],
   "source": [
    "# With dictionaries\n",
    "\n",
    "def twoStrings(s1, s2):\n",
    "    s1_dict = {}\n",
    "    s2_dict = {}\n",
    "\n",
    "    for elem in s1:\n",
    "        s1_dict[elem] = s1_dict.get(elem, 0) + 1\n",
    "    for elem in s2:\n",
    "        s2_dict[elem] = s2_dict.get(elem, 0) + 1\n",
    "\n",
    "    for k in s1_dict:\n",
    "        if k in s2_dict:\n",
    "            return 'YES'\n",
    "\n",
    "    return 'NO'\n",
    "\n",
    "\n",
    "if __name__ == '__main__':\n",
    "    q = int(input().strip())\n",
    "\n",
    "    for q_itr in range(q):\n",
    "        s1 = input()\n",
    "        s2 = input()\n",
    "\n",
    "        result = twoStrings(s1, s2)\n",
    "\n",
    "        print(result + '\\n')\n"
   ]
  },
  {
   "cell_type": "code",
   "execution_count": null,
   "metadata": {},
   "outputs": [],
   "source": [
    "# With sets\n",
    "\n",
    "def twoStrings(s1, s2):\n",
    "    s1_set = set(s1)\n",
    "    s2_set = set(s2)\n",
    "\n",
    "    intersection = s1_set.intersection(s2_set)\n",
    "    \n",
    "    if len(intersection) > 0:\n",
    "        return 'YES'\n",
    "    else:\n",
    "        return 'NO'\n",
    "\n",
    "\n",
    "if __name__ == '__main__':\n",
    "    q = int(input().strip())\n",
    "\n",
    "    for q_itr in range(q):\n",
    "        s1 = input()\n",
    "        s2 = input()\n",
    "\n",
    "        result = twoStrings(s1, s2)\n",
    "\n",
    "        print(result + '\\n')\n"
   ]
  }
 ],
 "metadata": {
  "kernelspec": {
   "display_name": "Python 3.8.7rc1 64-bit",
   "language": "python",
   "name": "python3"
  },
  "language_info": {
   "codemirror_mode": {
    "name": "ipython",
    "version": 3
   },
   "file_extension": ".py",
   "mimetype": "text/x-python",
   "name": "python",
   "nbconvert_exporter": "python",
   "pygments_lexer": "ipython3",
   "version": "3.8.7rc1"
  },
  "orig_nbformat": 4,
  "vscode": {
   "interpreter": {
    "hash": "1d927cf7450bcc3606565cd236bda40ebe55b6128bddee8109386870f1ca1865"
   }
  }
 },
 "nbformat": 4,
 "nbformat_minor": 2
}
