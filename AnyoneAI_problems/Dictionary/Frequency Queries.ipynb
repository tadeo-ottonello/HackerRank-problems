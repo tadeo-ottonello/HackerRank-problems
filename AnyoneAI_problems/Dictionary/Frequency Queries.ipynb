{
 "cells": [
  {
   "cell_type": "markdown",
   "metadata": {},
   "source": [
    "# Problem\n",
    "---"
   ]
  },
  {
   "cell_type": "markdown",
   "metadata": {},
   "source": [
    "![Pic_5_1](./Images/Pic_5_1.JPG)\n",
    "![Pic_5_2](./Images/Pic_5_2.JPG)\n",
    "![Pic_5_3](./Images/Pic_5_3.JPG)\n",
    "![Pic_5_4](./Images/Pic_5_4.JPG)\n",
    "![Pic_5_5](./Images/Pic_5_5.JPG)"
   ]
  },
  {
   "cell_type": "markdown",
   "metadata": {},
   "source": [
    "# Solution\n",
    "---"
   ]
  },
  {
   "cell_type": "code",
   "execution_count": null,
   "metadata": {},
   "outputs": [],
   "source": [
    "def freqQuery(queries):\n",
    "    freq_dict = {}\n",
    "    result = []\n",
    "\n",
    "    for query in queries:\n",
    "        mode, value = query[0], query[1]\n",
    "        \n",
    "        if mode == 1:\n",
    "            freq_dict[value] = freq_dict.get(value, 0) + 1\n",
    "        elif mode == 2 and freq_dict.get(value, 0) > 0:\n",
    "            freq_dict[value] = freq_dict.get(value, 0) - 1\n",
    "        elif mode == 3:\n",
    "            if value in freq_dict.values():\n",
    "                result.append(1)\n",
    "            else:\n",
    "                result.append(0)\n",
    "\n",
    "    return result\n",
    "\n",
    "\n",
    "if __name__ == '__main__':\n",
    "    q = int(input().strip())\n",
    "    queries = []\n",
    "\n",
    "    for _ in range(q):\n",
    "        queries.append(list(map(int, input().rstrip().split())))\n",
    "\n",
    "    ans = freqQuery(queries)\n",
    "\n",
    "    print('\\n'.join(map(str, ans)))\n",
    "    print('\\n')\n"
   ]
  }
 ],
 "metadata": {
  "kernelspec": {
   "display_name": "Python 3.8.7rc1 64-bit",
   "language": "python",
   "name": "python3"
  },
  "language_info": {
   "codemirror_mode": {
    "name": "ipython",
    "version": 3
   },
   "file_extension": ".py",
   "mimetype": "text/x-python",
   "name": "python",
   "nbconvert_exporter": "python",
   "pygments_lexer": "ipython3",
   "version": "3.8.7rc1"
  },
  "orig_nbformat": 4,
  "vscode": {
   "interpreter": {
    "hash": "1d927cf7450bcc3606565cd236bda40ebe55b6128bddee8109386870f1ca1865"
   }
  }
 },
 "nbformat": 4,
 "nbformat_minor": 2
}
