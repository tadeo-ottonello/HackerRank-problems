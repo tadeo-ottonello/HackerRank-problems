{
 "cells": [
  {
   "cell_type": "markdown",
   "metadata": {},
   "source": [
    "# Problem\n",
    "---"
   ]
  },
  {
   "cell_type": "markdown",
   "metadata": {},
   "source": [
    "![Pic_5_1](./Images/Pic_5_1.JPG)\n",
    "![Pic_5_2](./Images/Pic_5_2.JPG)\n",
    "![Pic_5_3](./Images/Pic_5_3.JPG)"
   ]
  },
  {
   "cell_type": "markdown",
   "metadata": {},
   "source": [
    "# Solution\n",
    "---"
   ]
  },
  {
   "cell_type": "code",
   "execution_count": null,
   "metadata": {},
   "outputs": [],
   "source": [
    "def partition(arr):\n",
    "    pivot = arr[0]\n",
    "    left = []\n",
    "    middle = []\n",
    "    right = []\n",
    "\n",
    "    for element in arr:\n",
    "        if element < pivot:\n",
    "            left.append(element)\n",
    "        elif element == pivot:\n",
    "            middle.append(element)\n",
    "        else:    \n",
    "            right.append(element)\n",
    "\n",
    "    return left, middle, right\n",
    "\n",
    "\n",
    "def quickSort(arr):\n",
    "\n",
    "    if len(arr) > 1:\n",
    "        left, middle, right = partition(arr)\n",
    "\n",
    "        left  = quickSort(left)\n",
    "        right = quickSort(right)\n",
    "        \n",
    "        arr = left + middle + right\n",
    "        print(*arr)\n",
    "    \n",
    "    return arr\n",
    "\n",
    "\n",
    "if __name__ == '__main__':\n",
    "    arr = list(map(int, input().rstrip().split()))\n",
    "    \n",
    "    quickSort(arr)"
   ]
  }
 ],
 "metadata": {
  "kernelspec": {
   "display_name": "Python 3.8.7rc1 64-bit",
   "language": "python",
   "name": "python3"
  },
  "language_info": {
   "codemirror_mode": {
    "name": "ipython",
    "version": 3
   },
   "file_extension": ".py",
   "mimetype": "text/x-python",
   "name": "python",
   "nbconvert_exporter": "python",
   "pygments_lexer": "ipython3",
   "version": "3.8.7rc1"
  },
  "orig_nbformat": 4,
  "vscode": {
   "interpreter": {
    "hash": "1d927cf7450bcc3606565cd236bda40ebe55b6128bddee8109386870f1ca1865"
   }
  }
 },
 "nbformat": 4,
 "nbformat_minor": 2
}
