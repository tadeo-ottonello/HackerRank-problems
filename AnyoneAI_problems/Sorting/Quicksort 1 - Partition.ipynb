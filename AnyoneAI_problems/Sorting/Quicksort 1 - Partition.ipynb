{
 "cells": [
  {
   "cell_type": "markdown",
   "metadata": {},
   "source": [
    "# Problem\n",
    "---"
   ]
  },
  {
   "cell_type": "markdown",
   "metadata": {},
   "source": [
    "![Pic_4_1](./Images/Pic_4_1.JPG)\n",
    "![Pic_4_2](./Images/Pic_4_2.JPG)\n",
    "![Pic_4_3](./Images/Pic_4_3.JPG)"
   ]
  },
  {
   "cell_type": "markdown",
   "metadata": {},
   "source": [
    "# Solution\n",
    "---"
   ]
  },
  {
   "cell_type": "code",
   "execution_count": null,
   "metadata": {},
   "outputs": [],
   "source": [
    "def quickSort(arr):\n",
    "    pivot = arr[0]\n",
    "    left = []\n",
    "    middle = []\n",
    "    right = []\n",
    "\n",
    "    for element in arr:\n",
    "        if element < pivot:\n",
    "            left.append(element)\n",
    "        elif element == pivot:\n",
    "            middle.append(element)\n",
    "        else:\n",
    "            right.append(element)\n",
    "\n",
    "    left.extend(middle)\n",
    "    left.extend(right)\n",
    "    \n",
    "    return left\n",
    "\n",
    "\n",
    "if __name__ == '__main__':\n",
    "    arr = list(map(int, input().rstrip().split()))\n",
    "\n",
    "    result = quickSort(arr)\n",
    "\n",
    "    print(' '.join(map(str, result)))\n"
   ]
  }
 ],
 "metadata": {
  "language_info": {
   "name": "python"
  },
  "orig_nbformat": 4
 },
 "nbformat": 4,
 "nbformat_minor": 2
}
