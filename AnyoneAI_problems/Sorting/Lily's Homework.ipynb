{
 "cells": [
  {
   "cell_type": "markdown",
   "metadata": {},
   "source": [
    "# Problem\n",
    "---"
   ]
  },
  {
   "cell_type": "markdown",
   "metadata": {},
   "source": [
    "![Pic_3_1](./Images/Pic_3_1.JPG)\n",
    "![Pic_3_2](./Images/Pic_3_2.JPG)"
   ]
  },
  {
   "cell_type": "markdown",
   "metadata": {},
   "source": [
    "# Solution\n",
    "---"
   ]
  },
  {
   "cell_type": "code",
   "execution_count": null,
   "metadata": {},
   "outputs": [],
   "source": [
    "def changes(input_arr, sort_arr):\n",
    "    counter = 0\n",
    "    arr = input_arr.copy()\n",
    "    pos_dict = {i:item for item, i in enumerate(arr)}\n",
    "\n",
    "    for i in range(len(arr)):\n",
    "        actual_v, sorted_v = arr[i], sort_arr[i]\n",
    "        \n",
    "        if actual_v != sorted_v:\n",
    "            j = pos_dict[sorted_v]\n",
    "            pos_dict[actual_v] = j\n",
    "\n",
    "            arr[i], arr[j] = arr[j], arr[i]\n",
    "\n",
    "            counter += 1\n",
    "\n",
    "    return counter\n",
    "\n",
    "\n",
    "def lilysHomework(arr):\n",
    "    s_arr = sorted(arr)\n",
    "\n",
    "    a = changes(arr, s_arr)\n",
    "    b = changes(arr, list(reversed(s_arr)))\n",
    "\n",
    "    return min(a, b)\n",
    "\n",
    "\n",
    "if __name__ == '__main__':\n",
    "    arr = list(map(int, input().rstrip().split()))\n",
    "\n",
    "    result = lilysHomework(arr)\n",
    "\n",
    "    print(str(result) + '\\n')\n"
   ]
  }
 ],
 "metadata": {
  "kernelspec": {
   "display_name": "Python 3.8.7rc1 64-bit",
   "language": "python",
   "name": "python3"
  },
  "language_info": {
   "codemirror_mode": {
    "name": "ipython",
    "version": 3
   },
   "file_extension": ".py",
   "mimetype": "text/x-python",
   "name": "python",
   "nbconvert_exporter": "python",
   "pygments_lexer": "ipython3",
   "version": "3.8.7"
  },
  "orig_nbformat": 4,
  "vscode": {
   "interpreter": {
    "hash": "1d927cf7450bcc3606565cd236bda40ebe55b6128bddee8109386870f1ca1865"
   }
  }
 },
 "nbformat": 4,
 "nbformat_minor": 2
}
