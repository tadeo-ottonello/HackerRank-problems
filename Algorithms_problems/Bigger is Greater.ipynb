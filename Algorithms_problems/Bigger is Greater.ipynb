{
 "cells": [
  {
   "cell_type": "markdown",
   "metadata": {},
   "source": [
    "# Problem\n",
    "---"
   ]
  },
  {
   "cell_type": "markdown",
   "metadata": {},
   "source": [
    "![Pic_6_1](./Images/Pic_6_1.JPG)\n",
    "![Pic_6_2](./Images/Pic_6_2.JPG)\n",
    "![Pic_6_3](./Images/Pic_6_3.JPG)"
   ]
  },
  {
   "cell_type": "markdown",
   "metadata": {},
   "source": [
    "# Solution\n",
    "---"
   ]
  },
  {
   "cell_type": "code",
   "execution_count": null,
   "metadata": {},
   "outputs": [],
   "source": [
    "def biggerIsGreater(w):\n",
    "    for i in range(len(w)-1, 0, -1):\n",
    "        if w[i] > w[i-1]:\n",
    "            bigger_letter = min([x for x in w[i:] if x > w[i-1]])\n",
    "\n",
    "            sort_str = sorted(w[i-1:])\n",
    "            sort_str.remove(bigger_letter)\n",
    "            solution = w[:i-1] + bigger_letter + ''.join(sort_str)\n",
    "            \n",
    "            return solution\n",
    "\n",
    "    return 'no answer'\n",
    "\n",
    "\n",
    "if __name__ == '__main__':\n",
    "    T = int(input().strip())\n",
    "\n",
    "    for _ in range(T):\n",
    "        w = input()\n",
    "        result = biggerIsGreater(w)\n",
    "        print(result + '\\n')\n"
   ]
  },
  {
   "cell_type": "code",
   "execution_count": null,
   "metadata": {},
   "outputs": [],
   "source": [
    "def biggerIsGreater(w):\n",
    "    i = len(w) - 1\n",
    "\n",
    "    while i > 0 and not w[i] > w[i-1]:\n",
    "        i -= 1\n",
    "    \n",
    "    if i == 0:\n",
    "        return 'no answer'\n",
    "\n",
    "    bigger_letter = min([x for x in w[i:] if x > w[i-1]])\n",
    "\n",
    "    sort_str = sorted(w[i-1:])\n",
    "    sort_str.remove(bigger_letter)\n",
    "    solution = w[:i-1] + bigger_letter + ''.join(sort_str)\n",
    "\n",
    "    return solution\n",
    "\n",
    "\n",
    "if __name__ == '__main__':\n",
    "    T = int(input().strip())\n",
    "\n",
    "    for _ in range(T):\n",
    "        w = input()\n",
    "        result = biggerIsGreater(w)\n",
    "        print(result + '\\n')\n"
   ]
  }
 ],
 "metadata": {
  "kernelspec": {
   "display_name": "Python 3.8.7rc1 64-bit",
   "language": "python",
   "name": "python3"
  },
  "language_info": {
   "codemirror_mode": {
    "name": "ipython",
    "version": 3
   },
   "file_extension": ".py",
   "mimetype": "text/x-python",
   "name": "python",
   "nbconvert_exporter": "python",
   "pygments_lexer": "ipython3",
   "version": "3.8.7rc1"
  },
  "orig_nbformat": 4,
  "vscode": {
   "interpreter": {
    "hash": "1d927cf7450bcc3606565cd236bda40ebe55b6128bddee8109386870f1ca1865"
   }
  }
 },
 "nbformat": 4,
 "nbformat_minor": 2
}
