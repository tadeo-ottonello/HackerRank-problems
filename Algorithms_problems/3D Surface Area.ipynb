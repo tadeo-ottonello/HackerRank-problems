{
 "cells": [
  {
   "cell_type": "markdown",
   "metadata": {},
   "source": [
    "# Problem\n",
    "---"
   ]
  },
  {
   "cell_type": "markdown",
   "metadata": {},
   "source": [
    "![Pic_3_1](./Images/Pic_3_1.JPG)\n",
    "![Pic_3_2](./Images/Pic_3_2.JPG)\n",
    "![Pic_3_3](./Images/Pic_3_3.JPG)\n",
    "![Pic_3_4](./Images/Pic_3_4.JPG)"
   ]
  },
  {
   "cell_type": "markdown",
   "metadata": {},
   "source": [
    "# Solution\n",
    "---"
   ]
  },
  {
   "cell_type": "code",
   "execution_count": null,
   "metadata": {},
   "outputs": [],
   "source": [
    "def surfaceArea(A):\n",
    "    H, W = len(A), len(A[0])\n",
    "    adj = [(1, 0), (0, 1), (-1, 0), (0, -1)]\n",
    "    surface = 0\n",
    "\n",
    "    for i in range(H):\n",
    "        for j in range(W):\n",
    "            for dire in adj:\n",
    "                if i+dire[0] in range(H) and j+dire[1] in range(W):\n",
    "                    adj_hight = A[i+dire[0]][j+dire[1]]\n",
    "                else:\n",
    "                    adj_hight = 0\n",
    "                \n",
    "                if adj_hight < A[i][j]:\n",
    "                    surface += A[i][j] - adj_hight\n",
    "            \n",
    "            surface += 2\n",
    "                \n",
    "    return surface\n",
    "\n",
    "\n",
    "if __name__ == '__main__':\n",
    "    H, W = map(int, input().rstrip().split())\n",
    "\n",
    "    A = []\n",
    "\n",
    "    for _ in range(H):\n",
    "        A.append(list(map(int, input().rstrip().split())))\n",
    "\n",
    "    result = surfaceArea(A)\n",
    "\n",
    "    print(str(result) + '\\n')\n"
   ]
  }
 ],
 "metadata": {
  "language_info": {
   "name": "python"
  },
  "orig_nbformat": 4
 },
 "nbformat": 4,
 "nbformat_minor": 2
}
