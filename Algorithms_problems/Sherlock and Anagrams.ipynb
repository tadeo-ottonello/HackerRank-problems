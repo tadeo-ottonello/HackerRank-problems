{
 "cells": [
  {
   "cell_type": "markdown",
   "metadata": {},
   "source": [
    "# Problem\n",
    "---"
   ]
  },
  {
   "cell_type": "markdown",
   "metadata": {},
   "source": [
    "![Pic_11_1](./Images/Pic_11_1.JPG)\n",
    "![Pic_11_2](./Images/Pic_11_2.JPG)\n",
    "![Pic_11_3](./Images/Pic_11_3.JPG)\n",
    "![Pic_11_4](./Images/Pic_11_4.JPG)"
   ]
  },
  {
   "cell_type": "markdown",
   "metadata": {},
   "source": [
    "# Solution\n",
    "---"
   ]
  },
  {
   "cell_type": "code",
   "execution_count": null,
   "metadata": {},
   "outputs": [],
   "source": [
    "def combinations(value):\n",
    "    if value == 1:\n",
    "        return 0\n",
    "    else:\n",
    "        return sum(range(value))\n",
    "\n",
    "\n",
    "def sherlockAndAnagrams(s):\n",
    "    anagram_freq = {}\n",
    "\n",
    "    for i in range(len(s)):\n",
    "        for j in range(i+1, len(s)+1):\n",
    "            anagram = ''.join(sorted(s[i:j]))\n",
    "            anagram_freq[anagram] = anagram_freq.get(anagram, 0) + 1\n",
    "    \n",
    "    anagram_counter = 0\n",
    "    for freq in anagram_freq.values():\n",
    "        anagram_counter += combinations(freq)\n",
    "    \n",
    "    return anagram_counter\n",
    "\n",
    "\n",
    "if __name__ == '__main__':\n",
    "    q = int(input().strip())\n",
    "\n",
    "    for _ in range(q):\n",
    "        result = sherlockAndAnagrams(input())\n",
    "        print(str(result) + '\\n')\n"
   ]
  }
 ],
 "metadata": {
  "kernelspec": {
   "display_name": "Python 3.8.7rc1 64-bit",
   "language": "python",
   "name": "python3"
  },
  "language_info": {
   "codemirror_mode": {
    "name": "ipython",
    "version": 3
   },
   "file_extension": ".py",
   "mimetype": "text/x-python",
   "name": "python",
   "nbconvert_exporter": "python",
   "pygments_lexer": "ipython3",
   "version": "3.8.7rc1"
  },
  "orig_nbformat": 4,
  "vscode": {
   "interpreter": {
    "hash": "1d927cf7450bcc3606565cd236bda40ebe55b6128bddee8109386870f1ca1865"
   }
  }
 },
 "nbformat": 4,
 "nbformat_minor": 2
}
