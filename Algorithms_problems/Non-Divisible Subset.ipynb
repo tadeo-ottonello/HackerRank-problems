{
 "cells": [
  {
   "cell_type": "markdown",
   "metadata": {},
   "source": [
    "# Problem\n",
    "---"
   ]
  },
  {
   "cell_type": "markdown",
   "metadata": {},
   "source": [
    "![Pic_9_1](./Images/Pic_9_1.JPG)\n",
    "![Pic_9_2](./Images/Pic_9_2.JPG)"
   ]
  },
  {
   "cell_type": "markdown",
   "metadata": {},
   "source": [
    "# Solution\n",
    "---"
   ]
  },
  {
   "cell_type": "code",
   "execution_count": null,
   "metadata": {},
   "outputs": [],
   "source": [
    "def nonDivisibleSubset(k, s):\n",
    "    freq_mod = {i:0 for i in range(k)}\n",
    "\n",
    "    for number in s:\n",
    "        mod = number % k\n",
    "        freq_mod[mod] += 1\n",
    "    \n",
    "    counter = 0\n",
    "\n",
    "    if freq_mod[0] != 0:\n",
    "        counter += 1\n",
    "\n",
    "    for number in range(1, (k+1) // 2):\n",
    "        counter += max(freq_mod[number], freq_mod[k-number])\n",
    "\n",
    "    if k%2 == 0 and freq_mod[k/2] != 0:\n",
    "        counter += 1\n",
    "\n",
    "    return counter\n",
    "\n",
    "\n",
    "if __name__ == '__main__':\n",
    "    first_multiple_input = input().rstrip().split()\n",
    "\n",
    "    n = int(first_multiple_input[0])\n",
    "    k = int(first_multiple_input[1])\n",
    "\n",
    "    s = list(map(int, input().rstrip().split()))\n",
    "\n",
    "    result = nonDivisibleSubset(k, s)\n",
    "\n",
    "    print(str(result) + '\\n')\n"
   ]
  }
 ],
 "metadata": {
  "language_info": {
   "name": "python"
  },
  "orig_nbformat": 4
 },
 "nbformat": 4,
 "nbformat_minor": 2
}
