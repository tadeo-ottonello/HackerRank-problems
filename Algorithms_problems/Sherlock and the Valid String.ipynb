{
 "cells": [
  {
   "cell_type": "markdown",
   "metadata": {},
   "source": [
    "# Problem\n",
    "---"
   ]
  },
  {
   "cell_type": "markdown",
   "metadata": {},
   "source": [
    "![Pic_7_1](./Images/Pic_7_1.JPG)\n",
    "![Pic_7_2](./Images/Pic_7_2.JPG)\n",
    "![Pic_7_3](./Images/Pic_7_3.JPG)"
   ]
  },
  {
   "cell_type": "markdown",
   "metadata": {},
   "source": [
    "# Solution\n",
    "---"
   ]
  },
  {
   "cell_type": "code",
   "execution_count": null,
   "metadata": {},
   "outputs": [],
   "source": [
    "def isValid(s):\n",
    "    str_dict = {}\n",
    "\n",
    "    for letter in s:\n",
    "        str_dict[letter] = str_dict.get(letter, 0) + 1\n",
    "\n",
    "    values = sorted(str_dict.values())\n",
    "\n",
    "    if values[0] == values[-1]:\n",
    "        return 'YES'\n",
    "    if values[0] == values[-2] and values[0] == values[-1] - 1:\n",
    "        return 'YES'\n",
    "    if values[0] == 1 and values[1] == values[-1]:\n",
    "        return 'YES'\n",
    "\n",
    "    return 'NO'\n",
    "\n",
    "\n",
    "if __name__ == '__main__':\n",
    "    s = input()\n",
    "    result = isValid(s)\n",
    "    print(result + '\\n')\n"
   ]
  }
 ],
 "metadata": {
  "kernelspec": {
   "display_name": "Python 3.8.7rc1 64-bit",
   "language": "python",
   "name": "python3"
  },
  "language_info": {
   "name": "python",
   "version": "3.8.7"
  },
  "orig_nbformat": 4,
  "vscode": {
   "interpreter": {
    "hash": "1d927cf7450bcc3606565cd236bda40ebe55b6128bddee8109386870f1ca1865"
   }
  }
 },
 "nbformat": 4,
 "nbformat_minor": 2
}
