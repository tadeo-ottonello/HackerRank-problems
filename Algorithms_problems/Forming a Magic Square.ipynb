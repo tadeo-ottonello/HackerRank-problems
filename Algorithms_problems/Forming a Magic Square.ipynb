{
 "cells": [
  {
   "cell_type": "markdown",
   "metadata": {},
   "source": [
    "# Problem\n",
    "---"
   ]
  },
  {
   "cell_type": "markdown",
   "metadata": {},
   "source": [
    "![Pic_1_1](./Images/Pic_1_1.JPG)\n",
    "![Pic_1_2](./Images/Pic_1_2.JPG)\n",
    "![Pic_1_3](./Images/Pic_1_3.JPG)"
   ]
  },
  {
   "cell_type": "markdown",
   "metadata": {},
   "source": [
    "# Solution\n",
    "---"
   ]
  },
  {
   "cell_type": "code",
   "execution_count": null,
   "metadata": {},
   "outputs": [],
   "source": [
    "# Hard coding the valid configurations due to loose contrains\n",
    "\n",
    "def transform_cost(matrix, config):\n",
    "    cost = sum([abs(matrix[i][j] - config[i][j]) for i in range(3) for j in range(3)])\n",
    "    \n",
    "    return cost\n",
    "\n",
    "\n",
    "def formingMagicSquare(s):\n",
    "    valid_config = [\n",
    "        [[8, 3, 4], [1, 5, 9], [6, 7, 2]],\n",
    "        [[4, 3, 8], [9, 5, 1], [2, 7, 6]],\n",
    "        [[6, 1, 8], [7, 5, 3], [2, 9, 4]],\n",
    "        [[8, 1, 6], [3, 5, 7], [4, 9, 2]],\n",
    "        [[4, 9, 2], [3, 5, 7], [8, 1, 6]],\n",
    "        [[2, 9, 4], [7, 5, 3], [6, 1, 8]],\n",
    "        [[2, 7, 6], [9, 5, 1], [4, 3, 8]],\n",
    "        [[6, 7, 2], [1, 5, 9], [8, 3, 4]],\n",
    "    ]\n",
    "\n",
    "    cost = None\n",
    "\n",
    "    for config in valid_config:\n",
    "        actual_cost = transform_cost(s, config)\n",
    "        if cost == None or actual_cost < cost:\n",
    "            cost = actual_cost\n",
    "\n",
    "    return cost\n",
    "\n",
    "\n",
    "if __name__ == '__main__':\n",
    "    s = []\n",
    "\n",
    "    for _ in range(3):\n",
    "        s.append(list(map(int, input().rstrip().split())))\n",
    "\n",
    "    result = formingMagicSquare(s)\n",
    "\n",
    "    print(str(result) + '\\n')\n"
   ]
  }
 ],
 "metadata": {
  "kernelspec": {
   "display_name": "Python 3.8.7rc1 64-bit",
   "language": "python",
   "name": "python3"
  },
  "language_info": {
   "name": "python",
   "version": "3.8.7"
  },
  "orig_nbformat": 4,
  "vscode": {
   "interpreter": {
    "hash": "1d927cf7450bcc3606565cd236bda40ebe55b6128bddee8109386870f1ca1865"
   }
  }
 },
 "nbformat": 4,
 "nbformat_minor": 2
}
