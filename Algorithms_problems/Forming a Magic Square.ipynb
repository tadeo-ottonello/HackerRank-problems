{
 "cells": [
  {
   "cell_type": "markdown",
   "metadata": {},
   "source": [
    "# Problem\n",
    "---"
   ]
  },
  {
   "cell_type": "markdown",
   "metadata": {},
   "source": [
    "![Pic_1_1](./Images/Pic_1_1.JPG)\n",
    "![Pic_1_2](./Images/Pic_1_2.JPG)\n",
    "![Pic_1_3](./Images/Pic_1_3.JPG)"
   ]
  },
  {
   "cell_type": "markdown",
   "metadata": {},
   "source": [
    "# Solution\n",
    "---"
   ]
  },
  {
   "cell_type": "code",
   "execution_count": null,
   "metadata": {},
   "outputs": [],
   "source": [
    "# Hard coding the valid configurations.\n",
    "\n",
    "def transform_cost(matrix, config):\n",
    "    cost = sum([abs(matrix[i][j] - config[i][j]) for i in range(3) for j in range(3)])\n",
    "    \n",
    "    return cost\n",
    "\n",
    "\n",
    "def formingMagicSquare(s):\n",
    "    valid_config = [\n",
    "        [[8, 3, 4], [1, 5, 9], [6, 7, 2]],\n",
    "        [[4, 3, 8], [9, 5, 1], [2, 7, 6]],\n",
    "        [[6, 1, 8], [7, 5, 3], [2, 9, 4]],\n",
    "        [[8, 1, 6], [3, 5, 7], [4, 9, 2]],\n",
    "        [[4, 9, 2], [3, 5, 7], [8, 1, 6]],\n",
    "        [[2, 9, 4], [7, 5, 3], [6, 1, 8]],\n",
    "        [[2, 7, 6], [9, 5, 1], [4, 3, 8]],\n",
    "        [[6, 7, 2], [1, 5, 9], [8, 3, 4]],\n",
    "    ]\n",
    "\n",
    "    cost = None\n",
    "\n",
    "    for config in valid_config:\n",
    "        actual_cost = transform_cost(s, config)\n",
    "        if cost == None or actual_cost < cost:\n",
    "            cost = actual_cost\n",
    "\n",
    "    return cost\n",
    "\n",
    "\n",
    "if __name__ == '__main__':\n",
    "    s = []\n",
    "\n",
    "    for _ in range(3):\n",
    "        s.append(list(map(int, input().rstrip().split())))\n",
    "\n",
    "    result = formingMagicSquare(s)\n",
    "\n",
    "    print(str(result) + '\\n')\n"
   ]
  },
  {
   "cell_type": "code",
   "execution_count": null,
   "metadata": {},
   "outputs": [],
   "source": [
    "# Creation of every Square and checking whether its valid or not.\n",
    "\n",
    "from itertools import permutations\n",
    "\n",
    "\n",
    "def transform_cost(matrix, config):\n",
    "    length = len(matrix)\n",
    "    cost = sum([abs(matrix[i][j] - config[i][j]) for i in range(length) for j in range(length)])\n",
    "    \n",
    "    return cost\n",
    "\n",
    "\n",
    "def combinate(l):\n",
    "\n",
    "    comb = list(permutations(range(1, 10), 9))\n",
    "    for conf in comb:\n",
    "        ar = [[conf[0], conf[1], conf[2]], [conf[3], conf[4], conf[5]], [conf[6], conf[7], conf[8]]]\n",
    "        \n",
    "        if ar[0][0] + ar[0][1] + ar[0][2] != 15:\n",
    "            continue\n",
    "        if ar[1][0] + ar[1][1] + ar[1][2] != 15:\n",
    "            continue\n",
    "        if ar[0][0] + ar[1][0] + ar[2][0] != 15:\n",
    "            continue\n",
    "        if ar[0][1] + ar[1][1] + ar[2][1] != 15:\n",
    "            continue\n",
    "        if ar[0][0] + ar[1][1] + ar[2][2] != 15:\n",
    "            continue\n",
    "        if ar[0][2] + ar[1][1] + ar[2][0] != 15:\n",
    "            continue\n",
    "        \n",
    "        yield ar\n",
    "\n",
    "\n",
    "def formingMagicSquare(s):\n",
    "\n",
    "    cost = None\n",
    "    gen = combinate(len(s))\n",
    "\n",
    "    for config in gen:\n",
    "        actual_cost = transform_cost(s, config)\n",
    "        if cost == None or actual_cost < cost:\n",
    "            cost = actual_cost\n",
    "\n",
    "    return cost\n",
    "\n",
    "\n",
    "if __name__ == '__main__':\n",
    "    s = []\n",
    "\n",
    "    for _ in range(3):\n",
    "        s.append(list(map(int, input().rstrip().split())))\n",
    "\n",
    "    result = formingMagicSquare(s)\n",
    "\n",
    "    print(str(result) + '\\n')\n"
   ]
  }
 ],
 "metadata": {
  "kernelspec": {
   "display_name": "Python 3.8.7rc1 64-bit",
   "language": "python",
   "name": "python3"
  },
  "language_info": {
   "codemirror_mode": {
    "name": "ipython",
    "version": 3
   },
   "file_extension": ".py",
   "mimetype": "text/x-python",
   "name": "python",
   "nbconvert_exporter": "python",
   "pygments_lexer": "ipython3",
   "version": "3.8.7rc1"
  },
  "orig_nbformat": 4,
  "vscode": {
   "interpreter": {
    "hash": "1d927cf7450bcc3606565cd236bda40ebe55b6128bddee8109386870f1ca1865"
   }
  }
 },
 "nbformat": 4,
 "nbformat_minor": 2
}
