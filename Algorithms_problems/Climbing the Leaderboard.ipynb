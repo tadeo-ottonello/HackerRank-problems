{
 "cells": [
  {
   "cell_type": "markdown",
   "metadata": {},
   "source": [
    "# Problem\n",
    "---"
   ]
  },
  {
   "cell_type": "markdown",
   "metadata": {},
   "source": [
    "![Pic_15_1](./Images/Pic_15_1.JPG)\n",
    "![Pic_15_2](./Images/Pic_15_2.JPG)\n",
    "![Pic_15_3](./Images/Pic_15_3.JPG)\n",
    "![Pic_15_4](./Images/Pic_15_4.JPG)\n",
    "![Pic_15_5](./Images/Pic_15_5.JPG)\n",
    "![Pic_15_6](./Images/Pic_15_6.JPG)\n",
    "![Pic_15_7](./Images/Pic_15_7.JPG)"
   ]
  },
  {
   "cell_type": "markdown",
   "metadata": {},
   "source": [
    "# Solution\n",
    "---"
   ]
  },
  {
   "cell_type": "code",
   "execution_count": null,
   "metadata": {},
   "outputs": [],
   "source": [
    "def climbingLeaderboard(ranked, player):\n",
    "    pass\n",
    "\n",
    "\n",
    "if __name__ == '__main__':\n",
    "    ranked_count = int(input().strip())\n",
    "    ranked = list(map(int, input().rstrip().split()))\n",
    "\n",
    "    player_count = int(input().strip())\n",
    "    player = list(map(int, input().rstrip().split()))\n",
    "\n",
    "    result = climbingLeaderboard(ranked, player)\n",
    "\n",
    "    print('\\n'.join(map(str, result)))\n"
   ]
  }
 ],
 "metadata": {
  "kernelspec": {
   "display_name": "Python 3.8.7rc1 64-bit",
   "language": "python",
   "name": "python3"
  },
  "language_info": {
   "name": "python",
   "version": "3.8.7"
  },
  "orig_nbformat": 4,
  "vscode": {
   "interpreter": {
    "hash": "1d927cf7450bcc3606565cd236bda40ebe55b6128bddee8109386870f1ca1865"
   }
  }
 },
 "nbformat": 4,
 "nbformat_minor": 2
}
