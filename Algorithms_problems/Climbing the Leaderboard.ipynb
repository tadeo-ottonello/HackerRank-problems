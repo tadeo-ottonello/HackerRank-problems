{
 "cells": [
  {
   "cell_type": "markdown",
   "metadata": {},
   "source": [
    "# Problem\n",
    "---"
   ]
  },
  {
   "cell_type": "markdown",
   "metadata": {},
   "source": [
    "![Pic_15_1](./Images/Pic_15_1.JPG)\n",
    "![Pic_15_2](./Images/Pic_15_2.JPG)\n",
    "![Pic_15_3](./Images/Pic_15_3.JPG)\n",
    "![Pic_15_4](./Images/Pic_15_4.JPG)\n",
    "![Pic_15_5](./Images/Pic_15_5.JPG)\n",
    "![Pic_15_6](./Images/Pic_15_6.JPG)\n",
    "![Pic_15_7](./Images/Pic_15_7.JPG)"
   ]
  },
  {
   "cell_type": "markdown",
   "metadata": {},
   "source": [
    "# Solution\n",
    "---"
   ]
  },
  {
   "cell_type": "code",
   "execution_count": null,
   "metadata": {},
   "outputs": [],
   "source": [
    "def b_search(rank, ranked):\n",
    "    s, e = 0, len(ranked)-1\n",
    "\n",
    "    while s <= e:\n",
    "        mid = s + (e-s) // 2\n",
    "        if ranked[mid] == rank:\n",
    "            return mid\n",
    "        elif ranked[mid] > rank:\n",
    "            s = mid + 1\n",
    "        else:\n",
    "            e = mid - 1\n",
    "            \n",
    "    return s\n",
    "\n",
    "\n",
    "def climbingLeaderboard(ranked, player):\n",
    "    ranked = sorted(set(ranked),reverse=True)\n",
    "    positions = []\n",
    "\n",
    "    for p_rank in player:\n",
    "        positions.append(b_search(p_rank, ranked)+1)\n",
    "\n",
    "    return positions\n",
    "\n",
    "\n",
    "if __name__ == '__main__':\n",
    "    ranked_count = int(input().strip())\n",
    "    ranked = list(map(int, input().rstrip().split()))\n",
    "\n",
    "    player_count = int(input().strip())\n",
    "    player = list(map(int, input().rstrip().split()))\n",
    "\n",
    "    result = climbingLeaderboard(ranked, player)\n",
    "\n",
    "    print('\\n'.join(map(str, result)))\n"
   ]
  }
 ],
 "metadata": {
  "kernelspec": {
   "display_name": "Python 3.8.7rc1 64-bit",
   "language": "python",
   "name": "python3"
  },
  "language_info": {
   "codemirror_mode": {
    "name": "ipython",
    "version": 3
   },
   "file_extension": ".py",
   "mimetype": "text/x-python",
   "name": "python",
   "nbconvert_exporter": "python",
   "pygments_lexer": "ipython3",
   "version": "3.8.7rc1"
  },
  "orig_nbformat": 4,
  "vscode": {
   "interpreter": {
    "hash": "1d927cf7450bcc3606565cd236bda40ebe55b6128bddee8109386870f1ca1865"
   }
  }
 },
 "nbformat": 4,
 "nbformat_minor": 2
}
