{
 "cells": [
  {
   "cell_type": "markdown",
   "metadata": {},
   "source": [
    "# Problem\n",
    "---"
   ]
  },
  {
   "cell_type": "markdown",
   "metadata": {},
   "source": [
    "![Pic_13_1](./Images/Pic_13_1.JPG)\n",
    "![Pic_13_2](./Images/Pic_13_2.JPG)\n",
    "![Pic_13_3](./Images/Pic_13_3.JPG)\n",
    "![Pic_13_4](./Images/Pic_13_4.JPG)"
   ]
  },
  {
   "cell_type": "markdown",
   "metadata": {},
   "source": [
    "# Solution\n",
    "---"
   ]
  },
  {
   "cell_type": "code",
   "execution_count": null,
   "metadata": {},
   "outputs": [],
   "source": [
    "def maxMin(k, arr):\n",
    "    arr.sort()\n",
    "    \n",
    "    candidate_diff = [arr[i+k-1] - arr[i] for i in range(len(arr) - k + 1)]\n",
    "    result = min(candidate_diff)\n",
    "\n",
    "    return result\n",
    "\n",
    "\n",
    "if __name__ == '__main__':\n",
    "    n = int(input().strip())\n",
    "    k = int(input().strip())\n",
    "\n",
    "    arr = []\n",
    "\n",
    "    for _ in range(n):\n",
    "        arr_item = int(input().strip())\n",
    "        arr.append(arr_item)\n",
    "\n",
    "    result = maxMin(k, arr)\n",
    "\n",
    "    print(str(result) + '\\n')\n"
   ]
  }
 ],
 "metadata": {
  "language_info": {
   "name": "python"
  },
  "orig_nbformat": 4
 },
 "nbformat": 4,
 "nbformat_minor": 2
}
