{
 "cells": [
  {
   "cell_type": "markdown",
   "metadata": {},
   "source": [
    "# Problem\n",
    "---"
   ]
  },
  {
   "cell_type": "markdown",
   "metadata": {},
   "source": [
    "![Pic_4_1](./Images/Pic_4_1.JPG)\n",
    "![Pic_4_2](./Images/Pic_4_2.JPG)\n",
    "![Pic_4_3](./Images/Pic_4_3.JPG)\n",
    "![Pic_4_4](./Images/Pic_4_4.JPG)\n",
    "![Pic_4_5](./Images/Pic_4_5.JPG)\n",
    "![Pic_4_6](./Images/Pic_4_6.JPG)"
   ]
  },
  {
   "cell_type": "markdown",
   "metadata": {},
   "source": [
    "# Solution\n",
    "---"
   ]
  },
  {
   "cell_type": "code",
   "execution_count": null,
   "metadata": {},
   "outputs": [],
   "source": [
    "def organizingContainers(container):\n",
    "    \n",
    "    balls_in_containers = sorted([sum(cont) for cont in container])\n",
    "    ball_type_count = sorted([sum(ball_type) for ball_type in zip(*container)])\n",
    "\n",
    "    if ball_type_count == balls_in_containers:\n",
    "        return 'Possible'\n",
    "    else:\n",
    "        return 'Impossible'\n",
    "\n",
    "\n",
    "if __name__ == '__main__':\n",
    "    q = int(input().strip())\n",
    "\n",
    "    for q_itr in range(q):\n",
    "        n = int(input().strip())\n",
    "\n",
    "        container = []\n",
    "\n",
    "        for _ in range(n):\n",
    "            container.append(list(map(int, input().rstrip().split())))\n",
    "\n",
    "        result = organizingContainers(container)\n",
    "\n",
    "        print(result + '\\n')\n"
   ]
  }
 ],
 "metadata": {
  "language_info": {
   "name": "python"
  },
  "orig_nbformat": 4
 },
 "nbformat": 4,
 "nbformat_minor": 2
}
