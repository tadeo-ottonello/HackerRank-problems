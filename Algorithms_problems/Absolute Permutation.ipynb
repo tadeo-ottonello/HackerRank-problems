{
 "cells": [
  {
   "cell_type": "markdown",
   "metadata": {},
   "source": [
    "# Problem\n",
    "---"
   ]
  },
  {
   "cell_type": "markdown",
   "metadata": {},
   "source": [
    "![Pic_19_1](./Images/Pic_19_1.JPG)\n",
    "![Pic_19_2](./Images/Pic_19_2.JPG)\n",
    "![Pic_19_3](./Images/Pic_19_3.JPG)"
   ]
  },
  {
   "cell_type": "markdown",
   "metadata": {},
   "source": [
    "# Solution\n",
    "---"
   ]
  },
  {
   "cell_type": "code",
   "execution_count": null,
   "metadata": {},
   "outputs": [],
   "source": [
    "def absolutePermutation(n, k):\n",
    "    pass\n",
    "\n",
    "\n",
    "if __name__ == '__main__':\n",
    "    t = int(input().strip())\n",
    "\n",
    "    for t_itr in range(t):\n",
    "        n, k = map(int, input().rstrip().split())\n",
    "\n",
    "        result = absolutePermutation(n, k)\n",
    "\n",
    "        print(' '.join(map(str, result)))\n",
    "        print('\\n')\n"
   ]
  }
 ],
 "metadata": {
  "language_info": {
   "name": "python"
  },
  "orig_nbformat": 4
 },
 "nbformat": 4,
 "nbformat_minor": 2
}
