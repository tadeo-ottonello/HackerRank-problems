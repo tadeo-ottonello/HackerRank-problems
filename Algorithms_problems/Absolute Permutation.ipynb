{
 "cells": [
  {
   "cell_type": "markdown",
   "metadata": {},
   "source": [
    "# Problem\n",
    "---"
   ]
  },
  {
   "cell_type": "markdown",
   "metadata": {},
   "source": [
    "![Pic_19_1](./Images/Pic_19_1.JPG)\n",
    "![Pic_19_2](./Images/Pic_19_2.JPG)\n",
    "![Pic_19_3](./Images/Pic_19_3.JPG)"
   ]
  },
  {
   "cell_type": "markdown",
   "metadata": {},
   "source": [
    "# Solution\n",
    "---"
   ]
  },
  {
   "cell_type": "code",
   "execution_count": null,
   "metadata": {},
   "outputs": [],
   "source": [
    "def absolutePermutation(n, k):\n",
    "    if k==0:\n",
    "        return list(range(1, n+1))\n",
    "    \n",
    "    if n % (2*k) != 0:\n",
    "        return [-1]\n",
    "    \n",
    "    result = []\n",
    "    for i in range(1, n+1):\n",
    "        if i % (2*k) in range(1, k+1):\n",
    "            result.append(i+k)\n",
    "        else:\n",
    "            result.append(i-k)\n",
    "\n",
    "    return result\n",
    "\n",
    "\n",
    "if __name__ == '__main__':\n",
    "    t = int(input().strip())\n",
    "\n",
    "    for t_itr in range(t):\n",
    "        n, k = map(int, input().rstrip().split())\n",
    "\n",
    "        result = absolutePermutation(n, k)\n",
    "\n",
    "        print(' '.join(map(str, result)))\n",
    "        print('\\n')\n"
   ]
  }
 ],
 "metadata": {
  "kernelspec": {
   "display_name": "Python 3.8.7rc1 64-bit",
   "language": "python",
   "name": "python3"
  },
  "language_info": {
   "codemirror_mode": {
    "name": "ipython",
    "version": 3
   },
   "file_extension": ".py",
   "mimetype": "text/x-python",
   "name": "python",
   "nbconvert_exporter": "python",
   "pygments_lexer": "ipython3",
   "version": "3.8.7rc1"
  },
  "orig_nbformat": 4,
  "vscode": {
   "interpreter": {
    "hash": "1d927cf7450bcc3606565cd236bda40ebe55b6128bddee8109386870f1ca1865"
   }
  }
 },
 "nbformat": 4,
 "nbformat_minor": 2
}
