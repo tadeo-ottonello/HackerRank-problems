{
 "cells": [
  {
   "cell_type": "markdown",
   "metadata": {},
   "source": [
    "# Problem\n",
    "---"
   ]
  },
  {
   "cell_type": "markdown",
   "metadata": {},
   "source": [
    "![Pic_18_1](./Images/Pic_18_1.JPG)\n",
    "![Pic_18_2](./Images/Pic_18_2.JPG)"
   ]
  },
  {
   "cell_type": "markdown",
   "metadata": {},
   "source": [
    "# Solution\n",
    "---"
   ]
  },
  {
   "cell_type": "code",
   "execution_count": null,
   "metadata": {},
   "outputs": [],
   "source": [
    "def cost(B):\n",
    "    prev_b = 0\n",
    "    prev_1 = 0\n",
    "\n",
    "    for i in range(1, len(B)):\n",
    "        temp_prev_1 = prev_b + B[i-1] - 1\n",
    "        prev_b = max(prev_1 + B[i] - 1, prev_b + abs(B[i] - B[i-1]))\n",
    "        prev_1 = temp_prev_1\n",
    "\n",
    "    return max(prev_b, prev_1)\n",
    "\n",
    "\n",
    "if __name__ == '__main__':\n",
    "    t = int(input().strip())\n",
    "\n",
    "    for t_itr in range(t):\n",
    "        n = int(input().strip())\n",
    "        B = list(map(int, input().rstrip().split()))\n",
    "\n",
    "        result = cost(B)\n",
    "\n",
    "        print(str(result) + '\\n')\n"
   ]
  }
 ],
 "metadata": {
  "kernelspec": {
   "display_name": "Python 3.8.7rc1 64-bit",
   "language": "python",
   "name": "python3"
  },
  "language_info": {
   "name": "python",
   "version": "3.8.7"
  },
  "orig_nbformat": 4,
  "vscode": {
   "interpreter": {
    "hash": "1d927cf7450bcc3606565cd236bda40ebe55b6128bddee8109386870f1ca1865"
   }
  }
 },
 "nbformat": 4,
 "nbformat_minor": 2
}
