{
 "cells": [
  {
   "cell_type": "markdown",
   "metadata": {},
   "source": [
    "# Problem\n",
    "---"
   ]
  },
  {
   "cell_type": "markdown",
   "metadata": {},
   "source": [
    "![Pic_17_1](./Images/Pic_17_1.JPG)\n",
    "![Pic_17_2](./Images/Pic_17_2.JPG)"
   ]
  },
  {
   "cell_type": "markdown",
   "metadata": {},
   "source": [
    "# Solution\n",
    "---"
   ]
  },
  {
   "cell_type": "code",
   "execution_count": null,
   "metadata": {},
   "outputs": [],
   "source": [
    "def pylons(k, arr):\n",
    "    i = -k\n",
    "    power_plants = 0\n",
    "\n",
    "    while i < len(arr) - k:\n",
    "        for j in range(i+2*k-1, i-1, -1):\n",
    "            if j == i:\n",
    "                return -1\n",
    "            elif j >= len(arr) or j < 0:\n",
    "                continue\n",
    "            elif arr[j] == 1:\n",
    "                i = j\n",
    "                break\n",
    "        \n",
    "        power_plants += 1\n",
    "        \n",
    "    return power_plants\n",
    "\n",
    "\n",
    "if __name__ == '__main__':\n",
    "    n, k = map(int, input().rstrip().split())\n",
    "    arr = list(map(int, input().rstrip().split()))\n",
    "\n",
    "    result = pylons(k, arr)\n",
    "\n",
    "    print(str(result) + '\\n')\n"
   ]
  }
 ],
 "metadata": {
  "kernelspec": {
   "display_name": "Python 3.8.7rc1 64-bit",
   "language": "python",
   "name": "python3"
  },
  "language_info": {
   "codemirror_mode": {
    "name": "ipython",
    "version": 3
   },
   "file_extension": ".py",
   "mimetype": "text/x-python",
   "name": "python",
   "nbconvert_exporter": "python",
   "pygments_lexer": "ipython3",
   "version": "3.8.7rc1"
  },
  "orig_nbformat": 4,
  "vscode": {
   "interpreter": {
    "hash": "1d927cf7450bcc3606565cd236bda40ebe55b6128bddee8109386870f1ca1865"
   }
  }
 },
 "nbformat": 4,
 "nbformat_minor": 2
}
