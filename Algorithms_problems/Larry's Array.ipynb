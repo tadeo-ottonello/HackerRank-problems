{
 "cells": [
  {
   "cell_type": "markdown",
   "metadata": {},
   "source": [
    "# Problem\n",
    "---"
   ]
  },
  {
   "cell_type": "markdown",
   "metadata": {},
   "source": [
    "![Pic_16_1](./Images/Pic_16_1.JPG)\n",
    "![Pic_16_2](./Images/Pic_16_2.JPG)\n",
    "![Pic_16_3](./Images/Pic_16_3.JPG)"
   ]
  },
  {
   "cell_type": "markdown",
   "metadata": {},
   "source": [
    "# Solution\n",
    "---"
   ]
  },
  {
   "cell_type": "code",
   "execution_count": null,
   "metadata": {},
   "outputs": [],
   "source": [
    "# Naive / brute force solution\n",
    "\n",
    "def larrysArray(A):\n",
    "\n",
    "    for i in range(len(A) - 2):\n",
    "        while A[i] != i+1:\n",
    "            ind = A.index(i+1)\n",
    "\n",
    "            if ind != len(A)-1:\n",
    "                A[ind+1],A[ind-1],A[ind] = A[ind-1],A[ind],A[ind+1]\n",
    "            else:\n",
    "                A[ind-1],A[ind],A[ind-2] = A[ind-2],A[ind-1],A[ind]\n",
    "\n",
    "    if A[i+1] + 1 == A[i+2]:\n",
    "        return 'YES'\n",
    "    else:\n",
    "        return 'NO'\n",
    "\n",
    "\n",
    "if __name__ == '__main__':\n",
    "    t = int(input().strip())\n",
    "\n",
    "    for t_itr in range(t):\n",
    "        n = int(input().strip())\n",
    "        A = list(map(int, input().rstrip().split()))\n",
    "\n",
    "        result = larrysArray(A)\n",
    "        print(result + '\\n')\n"
   ]
  }
 ],
 "metadata": {
  "kernelspec": {
   "display_name": "Python 3.8.7rc1 64-bit",
   "language": "python",
   "name": "python3"
  },
  "language_info": {
   "codemirror_mode": {
    "name": "ipython",
    "version": 3
   },
   "file_extension": ".py",
   "mimetype": "text/x-python",
   "name": "python",
   "nbconvert_exporter": "python",
   "pygments_lexer": "ipython3",
   "version": "3.8.7rc1"
  },
  "orig_nbformat": 4,
  "vscode": {
   "interpreter": {
    "hash": "1d927cf7450bcc3606565cd236bda40ebe55b6128bddee8109386870f1ca1865"
   }
  }
 },
 "nbformat": 4,
 "nbformat_minor": 2
}
