{
 "cells": [
  {
   "cell_type": "markdown",
   "metadata": {},
   "source": [
    "# Problem\n",
    "---"
   ]
  },
  {
   "cell_type": "markdown",
   "metadata": {},
   "source": [
    "![Pic_5_1](./Images/Pic_5_1.JPG)\n",
    "![Pic_5_2](./Images/Pic_5_2.JPG)\n",
    "![Pic_5_3](./Images/Pic_5_3.JPG)\n",
    "![Pic_5_4](./Images/Pic_5_4.JPG)"
   ]
  },
  {
   "cell_type": "markdown",
   "metadata": {},
   "source": [
    "# Solution\n",
    "---"
   ]
  },
  {
   "cell_type": "code",
   "execution_count": null,
   "metadata": {},
   "outputs": [],
   "source": [
    "from math import floor, ceil\n",
    "\n",
    "\n",
    "def encryption(s):\n",
    "    s = s.replace(' ', '')\n",
    "    length = len(s)\n",
    "\n",
    "    row = floor(length ** (1/2))\n",
    "    column = ceil(length ** (1/2))\n",
    "\n",
    "    if length > row * column:\n",
    "        row = column\n",
    "\n",
    "    solution = ''\n",
    "    for j in range(column):\n",
    "        solution += ''.join([s[i] for i in range(length) if i%column == j])\n",
    "        solution += ' '\n",
    "\n",
    "    return solution\n",
    "\n",
    "\n",
    "if __name__ == '__main__':\n",
    "    s = input()\n",
    "    result = encryption(s)\n",
    "    print(result , '\\n')\n"
   ]
  }
 ],
 "metadata": {
  "kernelspec": {
   "display_name": "Python 3.8.7rc1 64-bit",
   "language": "python",
   "name": "python3"
  },
  "language_info": {
   "codemirror_mode": {
    "name": "ipython",
    "version": 3
   },
   "file_extension": ".py",
   "mimetype": "text/x-python",
   "name": "python",
   "nbconvert_exporter": "python",
   "pygments_lexer": "ipython3",
   "version": "3.8.7rc1"
  },
  "orig_nbformat": 4,
  "vscode": {
   "interpreter": {
    "hash": "1d927cf7450bcc3606565cd236bda40ebe55b6128bddee8109386870f1ca1865"
   }
  }
 },
 "nbformat": 4,
 "nbformat_minor": 2
}
