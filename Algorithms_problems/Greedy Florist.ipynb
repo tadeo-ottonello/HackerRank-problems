{
 "cells": [
  {
   "cell_type": "markdown",
   "metadata": {},
   "source": [
    "# Problem\n",
    "---"
   ]
  },
  {
   "cell_type": "markdown",
   "metadata": {},
   "source": [
    "![Pic_12_1](./Images/Pic_12_1.JPG)\n",
    "![Pic_12_2](./Images/Pic_12_2.JPG)\n",
    "![Pic_12_3](./Images/Pic_12_3.JPG)\n",
    "![Pic_12_4](./Images/Pic_12_4.JPG)"
   ]
  },
  {
   "cell_type": "markdown",
   "metadata": {},
   "source": [
    "# Solution\n",
    "---"
   ]
  },
  {
   "cell_type": "code",
   "execution_count": null,
   "metadata": {},
   "outputs": [],
   "source": [
    "def getMinimumCost(k, c):\n",
    "    c.sort(reverse=True)\n",
    "    result = 0\n",
    "\n",
    "    for i in range(len(c)):\n",
    "        result += c[i] * (i // k + 1)\n",
    "\n",
    "    return result\n",
    "\n",
    "\n",
    "if __name__ == '__main__':\n",
    "    n, k = map(int, input().split())\n",
    "\n",
    "    c = list(map(int, input().rstrip().split()))\n",
    "\n",
    "    minimumCost = getMinimumCost(k, c)\n",
    "\n",
    "    print(str(minimumCost) + '\\n')\n"
   ]
  }
 ],
 "metadata": {
  "language_info": {
   "name": "python"
  },
  "orig_nbformat": 4
 },
 "nbformat": 4,
 "nbformat_minor": 2
}
