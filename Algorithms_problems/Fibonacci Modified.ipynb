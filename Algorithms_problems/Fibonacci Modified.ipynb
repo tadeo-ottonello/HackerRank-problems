{
 "cells": [
  {
   "cell_type": "markdown",
   "metadata": {},
   "source": [
    "# Problem\n",
    "---"
   ]
  },
  {
   "cell_type": "markdown",
   "metadata": {},
   "source": [
    "![Pic_8_1](./Images/Pic_8_1.JPG)\n",
    "![Pic_8_2](./Images/Pic_8_2.JPG)"
   ]
  },
  {
   "cell_type": "markdown",
   "metadata": {},
   "source": [
    "# Solution\n",
    "---"
   ]
  },
  {
   "cell_type": "code",
   "execution_count": null,
   "metadata": {},
   "outputs": [],
   "source": [
    "def fibonacciModified(t1, t2, n):\n",
    "    values = [t1, t2, 0]\n",
    "\n",
    "    for i in range(2, n):\n",
    "        values[i % 3] = values[(i-1) % 3] ** 2 + values[(i-2) % 3]\n",
    "\n",
    "    return values[i % 3]\n",
    "\n",
    "\n",
    "if __name__ == '__main__':\n",
    "    t1, t2, n = map(int, input().rstrip().split())\n",
    "\n",
    "    result = fibonacciModified(t1, t2, n)\n",
    "\n",
    "    print(str(result) + '\\n')\n"
   ]
  }
 ],
 "metadata": {
  "language_info": {
   "name": "python"
  },
  "orig_nbformat": 4
 },
 "nbformat": 4,
 "nbformat_minor": 2
}
