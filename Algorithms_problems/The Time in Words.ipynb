{
 "cells": [
  {
   "cell_type": "markdown",
   "metadata": {},
   "source": [
    "# Problem\n",
    "---"
   ]
  },
  {
   "cell_type": "markdown",
   "metadata": {},
   "source": [
    "![Pic_14_1](./Images/Pic_14_1.JPG)\n",
    "![Pic_14_2](./Images/Pic_14_2.JPG)"
   ]
  },
  {
   "cell_type": "markdown",
   "metadata": {},
   "source": [
    "# Solution\n",
    "---"
   ]
  },
  {
   "cell_type": "code",
   "execution_count": null,
   "metadata": {},
   "outputs": [],
   "source": [
    "def timeInWords(h, m):\n",
    "    convertion = {1:'one', 2:'two', 3:'three', 4:'four', 5:'five',\n",
    "                  6:'six', 7:'seven', 8:'eight', 9:'nine', 10:'ten',\n",
    "                  11:'eleven', 12:'twelve', 13:'thirteen', 14:'fourteen', 15:'quarter',\n",
    "                  16:'sixteen', 17:'seventeen', 18:'eighteen', 19:'nineteen', 20:'twenty',\n",
    "                  21:'twenty one', 22:'twenty two', 23:'twenty three', 24:'twenty four', 25:'twenty five',\n",
    "                  26:'twenty six', 27:'twenty seven', 28:'twenty eight', 29:'twenty nine', 30:'half'}\n",
    "    \n",
    "    if m == 0:\n",
    "        return convertion[h] + \" o' clock\"\n",
    "    elif m < 31:\n",
    "        if m == 15 or m == 30:\n",
    "            conn = \" past \"\n",
    "        elif m == 1:\n",
    "            conn = \" minute past \"\n",
    "        else:\n",
    "            conn = \" minutes past \"\n",
    "        return convertion[m] + conn + convertion[h]\n",
    "    else:\n",
    "        if m == 45:\n",
    "            conn = \" to \"\n",
    "        else:\n",
    "            conn = \" minutes to \"\n",
    "        return convertion[60-m] + conn + convertion[h+1]\n",
    "\n",
    "\n",
    "if __name__ == '__main__':\n",
    "    h = int(input().strip())\n",
    "    m = int(input().strip())\n",
    "\n",
    "    result = timeInWords(h, m)\n",
    "\n",
    "    print(result)\n"
   ]
  }
 ],
 "metadata": {
  "kernelspec": {
   "display_name": "Python 3.8.7rc1 64-bit",
   "language": "python",
   "name": "python3"
  },
  "language_info": {
   "codemirror_mode": {
    "name": "ipython",
    "version": 3
   },
   "file_extension": ".py",
   "mimetype": "text/x-python",
   "name": "python",
   "nbconvert_exporter": "python",
   "pygments_lexer": "ipython3",
   "version": "3.8.7"
  },
  "orig_nbformat": 4,
  "vscode": {
   "interpreter": {
    "hash": "1d927cf7450bcc3606565cd236bda40ebe55b6128bddee8109386870f1ca1865"
   }
  }
 },
 "nbformat": 4,
 "nbformat_minor": 2
}
