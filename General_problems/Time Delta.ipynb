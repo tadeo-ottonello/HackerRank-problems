{
 "cells": [
  {
   "cell_type": "markdown",
   "metadata": {},
   "source": [
    "# Problem\n",
    "---"
   ]
  },
  {
   "cell_type": "markdown",
   "metadata": {},
   "source": [
    "![Pic_4_1](./Images/Pic_4_1.JPG)\n",
    "![Pic_4_2](./Images/Pic_4_2.JPG)"
   ]
  },
  {
   "cell_type": "markdown",
   "metadata": {},
   "source": [
    "# Solution\n",
    "---"
   ]
  },
  {
   "cell_type": "code",
   "execution_count": 56,
   "metadata": {},
   "outputs": [
    {
     "name": "stdout",
     "output_type": "stream",
     "text": [
      "689400\n"
     ]
    }
   ],
   "source": [
    "from datetime import datetime\n",
    "\n",
    "\n",
    "def time_delta(t1, t2):\n",
    "    format = \"%a %d %b %Y %H:%M:%S %z\"\n",
    "    \n",
    "    a = datetime.strptime(t1, format)\n",
    "    b = datetime.strptime(t2, format)\n",
    "    diff = abs(int((a-b).total_seconds()))\n",
    "\n",
    "    return str(diff)\n",
    "\n",
    "\n",
    "if __name__ == '__main__':\n",
    "    t = int(input())\n",
    "\n",
    "    for t_itr in range(t):\n",
    "        t1 = input()\n",
    "        t2 = input()\n",
    "\n",
    "        delta = time_delta(t1, t2)\n",
    "\n",
    "        print(delta)\n"
   ]
  }
 ],
 "metadata": {
  "kernelspec": {
   "display_name": "Python 3.8.7rc1 64-bit",
   "language": "python",
   "name": "python3"
  },
  "language_info": {
   "codemirror_mode": {
    "name": "ipython",
    "version": 3
   },
   "file_extension": ".py",
   "mimetype": "text/x-python",
   "name": "python",
   "nbconvert_exporter": "python",
   "pygments_lexer": "ipython3",
   "version": "3.8.7rc1"
  },
  "orig_nbformat": 4,
  "vscode": {
   "interpreter": {
    "hash": "1d927cf7450bcc3606565cd236bda40ebe55b6128bddee8109386870f1ca1865"
   }
  }
 },
 "nbformat": 4,
 "nbformat_minor": 2
}
