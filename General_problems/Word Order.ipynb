{
 "cells": [
  {
   "cell_type": "markdown",
   "metadata": {},
   "source": [
    "# Problem\n",
    "---"
   ]
  },
  {
   "cell_type": "markdown",
   "metadata": {},
   "source": [
    "![Pic_6_1](./Images/Pic_6_1.JPG)\n",
    "![Pic_6_2](./Images/Pic_6_2.JPG)"
   ]
  },
  {
   "cell_type": "markdown",
   "metadata": {},
   "source": [
    "# Solution\n",
    "---"
   ]
  },
  {
   "cell_type": "code",
   "execution_count": null,
   "metadata": {},
   "outputs": [],
   "source": [
    "if __name__ == '__main__':\n",
    "    word_count = {}\n",
    "    position = 1\n",
    "\n",
    "    n_words = int(input())\n",
    "\n",
    "    for _ in range(n_words):\n",
    "        input_word = input()\n",
    "        if input_word in word_count:\n",
    "            word_count[input_word][\"count\"] += 1\n",
    "        else:\n",
    "            word_count[input_word] = {\"count\":1, \"position\":position}\n",
    "            position += 1\n",
    "    \n",
    "        \n",
    "    word_list = [(value[\"position\"], value[\"count\"]) for value in word_count.values()]\n",
    "    word_list.sort()\n",
    "\n",
    "    print(len(word_list))\n",
    "    for word in word_list:\n",
    "        print(word[1], end=\" \")\n"
   ]
  }
 ],
 "metadata": {
  "kernelspec": {
   "display_name": "Python 3.8.7rc1 64-bit",
   "language": "python",
   "name": "python3"
  },
  "language_info": {
   "codemirror_mode": {
    "name": "ipython",
    "version": 3
   },
   "file_extension": ".py",
   "mimetype": "text/x-python",
   "name": "python",
   "nbconvert_exporter": "python",
   "pygments_lexer": "ipython3",
   "version": "3.8.7rc1"
  },
  "orig_nbformat": 4,
  "vscode": {
   "interpreter": {
    "hash": "1d927cf7450bcc3606565cd236bda40ebe55b6128bddee8109386870f1ca1865"
   }
  }
 },
 "nbformat": 4,
 "nbformat_minor": 2
}
