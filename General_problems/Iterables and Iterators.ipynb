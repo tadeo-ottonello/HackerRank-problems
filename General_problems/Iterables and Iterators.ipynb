{
 "cells": [
  {
   "cell_type": "markdown",
   "metadata": {},
   "source": [
    "# Problem\n",
    "---"
   ]
  },
  {
   "cell_type": "markdown",
   "metadata": {},
   "source": [
    "![Pic_16_1](./Images/Pic_16_1.JPG)\n",
    "![Pic_16_2](./Images/Pic_16_2.JPG)"
   ]
  },
  {
   "cell_type": "markdown",
   "metadata": {},
   "source": [
    "# Solution\n",
    "---"
   ]
  },
  {
   "cell_type": "code",
   "execution_count": 4,
   "metadata": {},
   "outputs": [],
   "source": [
    "from collections import Counter\n",
    "from math import factorial as fact\n",
    "\n",
    "\n",
    "N = int(input())\n",
    "letter_list = input().split()\n",
    "k = int(input())\n",
    "\n",
    "letter_counter = Counter(letter_list)\n",
    "num_a = letter_counter['a']\n",
    "not_a = len(letter_list) - num_a\n",
    "\n",
    "prob_not_a = fact(not_a) * fact(len(letter_list) - k) / fact(len(letter_list)) / fact(not_a - k)\n",
    "prob_a = round(1 - prob_not_a, 3)\n",
    "\n",
    "print(prob_a)"
   ]
  }
 ],
 "metadata": {
  "kernelspec": {
   "display_name": "Python 3.8.7rc1 64-bit",
   "language": "python",
   "name": "python3"
  },
  "language_info": {
   "codemirror_mode": {
    "name": "ipython",
    "version": 3
   },
   "file_extension": ".py",
   "mimetype": "text/x-python",
   "name": "python",
   "nbconvert_exporter": "python",
   "pygments_lexer": "ipython3",
   "version": "3.8.7rc1"
  },
  "orig_nbformat": 4,
  "vscode": {
   "interpreter": {
    "hash": "1d927cf7450bcc3606565cd236bda40ebe55b6128bddee8109386870f1ca1865"
   }
  }
 },
 "nbformat": 4,
 "nbformat_minor": 2
}
