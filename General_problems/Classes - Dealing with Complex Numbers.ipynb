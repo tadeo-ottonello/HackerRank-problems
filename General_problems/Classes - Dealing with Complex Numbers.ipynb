{
 "cells": [
  {
   "cell_type": "markdown",
   "metadata": {},
   "source": [
    "# Problem\n",
    "---"
   ]
  },
  {
   "cell_type": "markdown",
   "metadata": {},
   "source": [
    "![Pic_19_1](./Images/Pic_19_1.JPG)\n",
    "![Pic_19_2](./Images/Pic_19_2.JPG)\n",
    "![Pic_19_3](./Images/Pic_19_3.JPG)"
   ]
  },
  {
   "cell_type": "markdown",
   "metadata": {},
   "source": [
    "# Solution\n",
    "---"
   ]
  },
  {
   "cell_type": "code",
   "execution_count": null,
   "metadata": {},
   "outputs": [],
   "source": [
    "class Complex(object):\n",
    "    def __init__(self, real, imaginary):\n",
    "        self.real = real\n",
    "        self.imaginary = imaginary\n",
    "        \n",
    "    def __add__(self, no):\n",
    "        real_res = self.real + no.real\n",
    "        imag_res = self.imaginary + no.imaginary\n",
    "        return Complex(real_res, imag_res)\n",
    "    \n",
    "    def __sub__(self, no):\n",
    "        real_res = self.real - no.real\n",
    "        imag_res = self.imaginary - no.imaginary\n",
    "        return Complex(real_res, imag_res)\n",
    "    \n",
    "    def __mul__(self, no):\n",
    "        real_res = self.real * no.real - self.imaginary * no.imaginary\n",
    "        imag_res = self.real * no.imaginary + self.imaginary * no.real\n",
    "        return Complex(real_res, imag_res)\n",
    "    \n",
    "    def __truediv__(self, no):\n",
    "        coc = no.real ** 2 + no.imaginary ** 2\n",
    "        real_res = (self.real * no.real + self.imaginary * no.imaginary) / coc\n",
    "        imag_res = (self.imaginary * no.real - self.real * no.imaginary) / coc\n",
    "        return Complex(real_res, imag_res)\n",
    "    \n",
    "    def mod(self):\n",
    "        modulus = (self.real ** 2 + self.imaginary ** 2) ** (1/2)\n",
    "        return Complex(modulus, 0)\n",
    "    \n",
    "    def __str__(self):\n",
    "        if self.imaginary == 0:\n",
    "            result = \"%.2f+0.00i\" % (self.real)\n",
    "        elif self.real == 0:\n",
    "            if self.imaginary >= 0:\n",
    "                result = \"0.00+%.2fi\" % (self.imaginary)\n",
    "            else:\n",
    "                result = \"0.00-%.2fi\" % (abs(self.imaginary))\n",
    "        elif self.imaginary > 0:\n",
    "            result = \"%.2f+%.2fi\" % (self.real, self.imaginary)\n",
    "        else:\n",
    "            result = \"%.2f-%.2fi\" % (self.real, abs(self.imaginary))\n",
    "        return result\n",
    "\n",
    "        \n",
    "if __name__ == '__main__':\n",
    "    c = map(float, input().split())\n",
    "    d = map(float, input().split())\n",
    "    x = Complex(*c)\n",
    "    y = Complex(*d)\n",
    "    print(*map(str, [x+y, x-y, x*y, x/y, x.mod(), y.mod()]), sep='\\n')"
   ]
  }
 ],
 "metadata": {
  "language_info": {
   "name": "python"
  },
  "orig_nbformat": 4
 },
 "nbformat": 4,
 "nbformat_minor": 2
}
